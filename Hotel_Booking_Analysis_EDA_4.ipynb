{
  "nbformat": 4,
  "nbformat_minor": 0,
  "metadata": {
    "colab": {
      "private_outputs": true,
      "provenance": [],
      "collapsed_sections": [
        "gIfDvo9L0UH2"
      ],
      "include_colab_link": true
    },
    "kernelspec": {
      "name": "python3",
      "display_name": "Python 3"
    },
    "language_info": {
      "name": "python"
    }
  },
  "cells": [
    {
      "cell_type": "markdown",
      "metadata": {
        "id": "view-in-github",
        "colab_type": "text"
      },
      "source": [
        "<a href=\"https://colab.research.google.com/github/AnjanaAnoop/Hotel-Booking-Analysis-EDA-Project/blob/main/Hotel_Booking_Analysis_EDA_4.ipynb\" target=\"_parent\"><img src=\"https://colab.research.google.com/assets/colab-badge.svg\" alt=\"Open In Colab\"/></a>"
      ]
    },
    {
      "cell_type": "markdown",
      "source": [
        "# **Project Name**    - **Hotel Booking Analysis**\n",
        "\n"
      ],
      "metadata": {
        "id": "vncDsAP0Gaoa"
      }
    },
    {
      "cell_type": "markdown",
      "source": [
        "##### **Project Type**    - EDA\n",
        "##### **Contribution**    - Individual\n",
        "##### **Name -** Anjana K\n",
        "\n"
      ],
      "metadata": {
        "id": "beRrZCGUAJYm"
      }
    },
    {
      "cell_type": "markdown",
      "source": [
        "# **Project Summary -**"
      ],
      "metadata": {
        "id": "FJNUwmbgGyua"
      }
    },
    {
      "cell_type": "markdown",
      "source": [
        "The aim of **Hotel Booking Analysis** project is to perform Exploratory Data Analysis (EDA) on a dataset that contains hotel booking information for the period from 2015 to 2017.\n",
        "\n",
        "\n",
        "First, I have loaded the given Hotel Booking dataset (Hotel Bookings.csv) to the Google Colab and got a glimpse of the data by using the head() and tail() functions. The Hotel Booking data set has 119390 rows and 32 columns.I further explored the data set and found that it contains booking information for a City Hotel and a Resort Hotel, and includes information such as when the booking was made, length of stay, the number of adults, children, and/or babies, and the number of available parking spaces, among other things.\n",
        "\n",
        "\n",
        "The info() and describe() methods were used to get a concise summary of the dataframe and some basic statistical details of the numerical columns respectively. The duplicated 31994 rows were dropped from the dataset. The custom function dataframe_info() was used to return a dataframe displaying the column datatypes, count of unique values and count & percent of missing values in each column of the dataframe. From this output, I found that there are 4 columns (company, agent, country, children) with missing values. The null values in \"agent\" and \"company\" columns is replaced with 0, null values in \"children\" column is replaced with mode value and missing values in \"country\" column is replaced with \"others\". Then the rows where sum of \"adults\",\"children\" and \"babies\" columns is zero was dropped. The unique values for the 32 variables in the data set was identified. The outliers in the data set were imputed. Hence the given data is clean now.\n",
        "\n",
        "\n",
        "In the data wrangling phase, the data types of some of the columns were corrected and added some new columns that are relevant for the analysis of the data set. Different charts were used for data visualization to explore and analyse the data inorder to derive valuable insights of the factors that govern the hotel bookings."
      ],
      "metadata": {
        "id": "F6v_1wHtG2nS"
      }
    },
    {
      "cell_type": "markdown",
      "source": [
        "# **GitHub Link -**"
      ],
      "metadata": {
        "id": "w6K7xa23Elo4"
      }
    },
    {
      "cell_type": "markdown",
      "source": [
        "https://github.com/AnjanaAnoop"
      ],
      "metadata": {
        "id": "h1o69JH3Eqqn"
      }
    },
    {
      "cell_type": "markdown",
      "source": [
        "# **Problem Statement**\n"
      ],
      "metadata": {
        "id": "yQaldy8SH6Dl"
      }
    },
    {
      "cell_type": "markdown",
      "source": [
        "Hotel Booking data set contains booking information for a city hotel and a resort hotel, and includes information such as when the booking was made, length of stay, the number of adults, children, and/or babies, and the number of available parking spaces, among other things. The objective of this project is to perform data analysis and visualization to explore the key factors that govern the hotel bookings."
      ],
      "metadata": {
        "id": "DpeJGUA3kjGy"
      }
    },
    {
      "cell_type": "markdown",
      "source": [
        "#### **Define Your Business Objective?**"
      ],
      "metadata": {
        "id": "PH-0ReGfmX4f"
      }
    },
    {
      "cell_type": "markdown",
      "source": [
        "The main objective of this project is to explore the key factors driving the hotel bookings such as :\n",
        "\n",
        "\n",
        "\n",
        "*   To know which type of hotel has highest booking percentage and highest booking cancellation percentage.\n",
        "*   To know which agent has made the most number of bookings.\n",
        "*   To identify which is the most preferred meal type by the customers.\n",
        "*   To identify which is the most preferred room type by the customers.\n",
        "*   To know how lead time affect the hotel booking.\n",
        "*   To know what is the optimal length of stay in both types of hotel.\n",
        "*   To understand which year has the highest number of bookings and which is the busiest month of the year.\n",
        "*   To identify which is the most preferred hotel type for weekend and weekday stay.\n",
        "*   To observe how does bookings varies along year for different types of customers.\n",
        "*   To identify which is the most common channel for booking hotels.\n",
        "*  To know which hotel type has the highest ADR and longer waiting time.\n",
        "*  To find which hotel has high chance that its customer will return for another stay.\n",
        "*   To identify which distribution channel brings better revenue generating deals for hotels.\n",
        "*   To find which is the origin country of most of the customers.\n",
        "\n",
        "\n",
        "\n",
        "\n",
        "\n",
        "\n",
        "\n",
        "\n"
      ],
      "metadata": {
        "id": "PhDvGCAqmjP1"
      }
    },
    {
      "cell_type": "markdown",
      "source": [
        "# **General Guidelines** : -  "
      ],
      "metadata": {
        "id": "mDgbUHAGgjLW"
      }
    },
    {
      "cell_type": "markdown",
      "source": [
        "1.   Well-structured, formatted, and commented code is required.\n",
        "2.   Exception Handling, Production Grade Code & Deployment Ready Code will be a plus. Those students will be awarded some additional credits.\n",
        "     \n",
        "     The additional credits will have advantages over other students during Star Student selection.\n",
        "       \n",
        "             [ Note: - Deployment Ready Code is defined as, the whole .ipynb notebook should be executable in one go\n",
        "                       without a single error logged. ]\n",
        "\n",
        "3.   Each and every logic should have proper comments.\n",
        "4. You may add as many number of charts you want. Make Sure for each and every chart the following format should be answered.\n",
        "        \n",
        "\n",
        "```\n",
        "# Chart visualization code\n",
        "```\n",
        "            \n",
        "\n",
        "*   Why did you pick the specific chart?\n",
        "*   What is/are the insight(s) found from the chart?\n",
        "* Will the gained insights help creating a positive business impact?\n",
        "Are there any insights that lead to negative growth? Justify with specific reason.\n",
        "\n",
        "5. You have to create at least 20 logical & meaningful charts having important insights.\n",
        "\n",
        "\n",
        "[ Hints : - Do the Vizualization in  a structured way while following \"UBM\" Rule.\n",
        "\n",
        "U - Univariate Analysis,\n",
        "\n",
        "B - Bivariate Analysis (Numerical - Categorical, Numerical - Numerical, Categorical - Categorical)\n",
        "\n",
        "M - Multivariate Analysis\n",
        " ]\n",
        "\n",
        "\n",
        "\n"
      ],
      "metadata": {
        "id": "ZrxVaUj-hHfC"
      }
    },
    {
      "cell_type": "markdown",
      "source": [
        "# ***Let's Begin !***"
      ],
      "metadata": {
        "id": "O_i_v8NEhb9l"
      }
    },
    {
      "cell_type": "markdown",
      "source": [
        "## ***1. Know Your Data***"
      ],
      "metadata": {
        "id": "HhfV-JJviCcP"
      }
    },
    {
      "cell_type": "markdown",
      "source": [
        "### Import Libraries"
      ],
      "metadata": {
        "id": "Y3lxredqlCYt"
      }
    },
    {
      "cell_type": "markdown",
      "source": [
        "First,we import the libraries and modules which we have to use in this analysis."
      ],
      "metadata": {
        "id": "b4YxjHyp6Twt"
      }
    },
    {
      "cell_type": "code",
      "source": [
        "# Import Libraries\n",
        "import pandas as pd\n",
        "import numpy as np\n",
        "import matplotlib.pyplot as plt\n",
        "import seaborn as sns\n",
        "import datetime as dt\n",
        "%matplotlib inline"
      ],
      "metadata": {
        "id": "M8Vqi-pPk-HR"
      },
      "execution_count": null,
      "outputs": []
    },
    {
      "cell_type": "markdown",
      "source": [
        "### Dataset Loading"
      ],
      "metadata": {
        "id": "3RnN4peoiCZX"
      }
    },
    {
      "cell_type": "code",
      "source": [
        "# Load Dataset\n",
        "from google.colab import drive\n",
        "drive.mount('/content/drive')"
      ],
      "metadata": {
        "id": "4CkvbW_SlZ_R"
      },
      "execution_count": null,
      "outputs": []
    },
    {
      "cell_type": "markdown",
      "source": [
        "### Dataset First View"
      ],
      "metadata": {
        "id": "x71ZqKXriCWQ"
      }
    },
    {
      "cell_type": "code",
      "source": [
        "# Dataset First Look - Reading and viewing the csv file\n",
        "hotel_df = pd.read_csv('/content/drive/MyDrive/Hotel Booking Analysis EDA/Hotel Bookings.csv')"
      ],
      "metadata": {
        "id": "LWNFOSvLl09H"
      },
      "execution_count": null,
      "outputs": []
    },
    {
      "cell_type": "code",
      "source": [
        "# First 5 rows of the dataset\n",
        "hotel_df.head()"
      ],
      "metadata": {
        "id": "cy3zIX645Hgg"
      },
      "execution_count": null,
      "outputs": []
    },
    {
      "cell_type": "code",
      "source": [
        "# Last 5 rows of the dataset\n",
        "hotel_df.tail()"
      ],
      "metadata": {
        "id": "dMjA1ZEl5RyK"
      },
      "execution_count": null,
      "outputs": []
    },
    {
      "cell_type": "markdown",
      "source": [
        "### Dataset Rows & Columns count"
      ],
      "metadata": {
        "id": "7hBIi_osiCS2"
      }
    },
    {
      "cell_type": "code",
      "source": [
        "# Dataset Rows & Columns count\n",
        "row,column = hotel_df.shape\n",
        "print(\"Total number of rows in dataset :\",row)\n",
        "print(\"Total number of columns in dataset :\",column)\n"
      ],
      "metadata": {
        "id": "Kllu7SJgmLij"
      },
      "execution_count": null,
      "outputs": []
    },
    {
      "cell_type": "markdown",
      "source": [
        "### Dataset Information"
      ],
      "metadata": {
        "id": "JlHwYmJAmNHm"
      }
    },
    {
      "cell_type": "code",
      "source": [
        "# Dataset Info - To get a concise summary of the dataframe\n",
        "hotel_df.info()"
      ],
      "metadata": {
        "id": "u5Zu6WA2bkVV"
      },
      "execution_count": null,
      "outputs": []
    },
    {
      "cell_type": "markdown",
      "source": [
        "#### Duplicate Values"
      ],
      "metadata": {
        "id": "35m5QtbWiB9F"
      }
    },
    {
      "cell_type": "code",
      "source": [
        "# Dataset Duplicate Value Count\n",
        "hotel_df.duplicated().value_counts()"
      ],
      "metadata": {
        "id": "1sLdpKYkmox0"
      },
      "execution_count": null,
      "outputs": []
    },
    {
      "cell_type": "code",
      "source": [
        "# Dropping Duplicate values\n",
        "hotel_df.drop_duplicates(inplace = True)"
      ],
      "metadata": {
        "id": "VFLhNLTXYt3e"
      },
      "execution_count": null,
      "outputs": []
    },
    {
      "cell_type": "code",
      "source": [
        "# Dataset shape after removing the duplicates\n",
        "hotel_df.shape"
      ],
      "metadata": {
        "id": "Wr06o7rMYx0y"
      },
      "execution_count": null,
      "outputs": []
    },
    {
      "cell_type": "code",
      "source": [
        "# Resetting the index of the dataframe after duplicate removal\n",
        "hotel_df.reset_index(drop=True,inplace=True)"
      ],
      "metadata": {
        "id": "fTXzbkeSI35O"
      },
      "execution_count": null,
      "outputs": []
    },
    {
      "cell_type": "markdown",
      "source": [
        "#### Missing Values/Null Values"
      ],
      "metadata": {
        "id": "PoPl-ycgm1ru"
      }
    },
    {
      "cell_type": "code",
      "source": [
        "# Defining the function \"dataframe_info\"\n",
        "def dataframe_info(df):\n",
        "  '''\n",
        "  Returns a dataframe displaying the column datatypes,\n",
        "  count of unique values and count & percent of missing values in each column of the dataframe\n",
        "  '''\n",
        "  info_df=df.isnull().sum().reset_index()\n",
        "  info_df.rename(columns={'index':'Column Name',0:'NaN Count'},inplace=True)\n",
        "  info_df['% of  NaN']=round((info_df['NaN Count']/len(df))*100,2)\n",
        "  info_df['Data Type']=df.dtypes.values\n",
        "  info_df['Unique Count']=df.nunique(axis=0).values\n",
        "  info_df.sort_values(by=['NaN Count'], ascending=False, inplace = True, ignore_index= True)\n",
        "  return(info_df)"
      ],
      "metadata": {
        "id": "5m4i6KuiFUFW"
      },
      "execution_count": null,
      "outputs": []
    },
    {
      "cell_type": "code",
      "source": [
        "# Calling the function \"dataframe_info\" with hotel_df as the input parameter\n",
        "dataframe_info(hotel_df)"
      ],
      "metadata": {
        "id": "DdA8f3tbFXl3"
      },
      "execution_count": null,
      "outputs": []
    },
    {
      "cell_type": "markdown",
      "source": [
        "We can see that we have 4 columns (company, agent, country, children) with missing values. The columns “agent” and “company” have a high percentage of missing values whereas the columns “children” and “country” have a low percentage of missing values."
      ],
      "metadata": {
        "id": "RyZu3r4mGx5w"
      }
    },
    {
      "cell_type": "code",
      "source": [
        "# Replacing null values in \"agent\" and \"company\" columns with 0\n",
        "hotel_df[['company', 'agent']] = hotel_df[['company', 'agent']].fillna(0)"
      ],
      "metadata": {
        "id": "GVPCbg6GJjGo"
      },
      "execution_count": null,
      "outputs": []
    },
    {
      "cell_type": "code",
      "source": [
        "# Replacing null values in \"children\" column with mode value\n",
        "hotel_df['children'].fillna(hotel_df['children'].mode()[0], inplace = True)"
      ],
      "metadata": {
        "id": "lbJSIT4JLwvC"
      },
      "execution_count": null,
      "outputs": []
    },
    {
      "cell_type": "code",
      "source": [
        "# Replacing missing values in \"country\" column with \"others\"\n",
        "hotel_df['country'].fillna('others',inplace = True)"
      ],
      "metadata": {
        "id": "0DuivOmTMVCL"
      },
      "execution_count": null,
      "outputs": []
    },
    {
      "cell_type": "markdown",
      "source": [
        "Let's again check the missing values."
      ],
      "metadata": {
        "id": "0_zShM8BW95Q"
      }
    },
    {
      "cell_type": "code",
      "source": [
        "# Re-check if the hotel dataframe has any null values to ensure that all modifications are in place\n",
        "dataframe_info(hotel_df)"
      ],
      "metadata": {
        "id": "bDA11VqqvACD"
      },
      "execution_count": null,
      "outputs": []
    },
    {
      "cell_type": "markdown",
      "source": [
        "Perfect! now we don’t have any missing value."
      ],
      "metadata": {
        "id": "wFIlgnKpW61T"
      }
    },
    {
      "cell_type": "code",
      "source": [
        "# Getting the number of rows where sum of \"adults\",\"children\" and \"babies\" columns is zero\n",
        "hotel_df[hotel_df['adults'] + hotel_df['children'] + hotel_df['babies'] == 0].shape"
      ],
      "metadata": {
        "id": "8wE9N8ZUXHJl"
      },
      "execution_count": null,
      "outputs": []
    },
    {
      "cell_type": "code",
      "source": [
        "# Dropping the rows where sum of \"adults\",\"children\" and \"babies\" columns is zero\n",
        "hotel_df.drop(hotel_df[hotel_df['adults'] + hotel_df['children'] + hotel_df['babies'] == 0].index, inplace = True)"
      ],
      "metadata": {
        "id": "A557KI_ttFFf"
      },
      "execution_count": null,
      "outputs": []
    },
    {
      "cell_type": "markdown",
      "source": [
        "### What did you know about your dataset?"
      ],
      "metadata": {
        "id": "H0kj-8xxnORC"
      }
    },
    {
      "cell_type": "markdown",
      "source": [
        "The Hotel Booking dataset has 119390 rows and 32 columns.The duplicate value count is 31994 rows. After removing the duplicates, there are 87396 rows and  32 columns in the dataset. We found that there are 4 columns (company, agent, country, children) with missing values. We replaced null values in \"agent\" and \"company\" columns with 0, null values in \"children\" column with mode value and missing values in \"country\" column with \"others\". Then we dropped the rows where sum of \"adults\",\"children\" and \"babies\" columns is zero."
      ],
      "metadata": {
        "id": "gfoNAAC-nUe_"
      }
    },
    {
      "cell_type": "markdown",
      "source": [
        "## ***2. Understanding Your Variables***"
      ],
      "metadata": {
        "id": "nA9Y7ga8ng1Z"
      }
    },
    {
      "cell_type": "code",
      "source": [
        "# Dataset Columns\n",
        "hotel_df.columns"
      ],
      "metadata": {
        "id": "j7xfkqrt5Ag5"
      },
      "execution_count": null,
      "outputs": []
    },
    {
      "cell_type": "code",
      "source": [
        "# Dataset Describe - To get some basic statistical details of the numerical columns\n",
        "hotel_df.describe()"
      ],
      "metadata": {
        "id": "DnOaZdaE5Q5t"
      },
      "execution_count": null,
      "outputs": []
    },
    {
      "cell_type": "markdown",
      "source": [
        "### Variables Description"
      ],
      "metadata": {
        "id": "PBTbrJXOngz2"
      }
    },
    {
      "cell_type": "markdown",
      "source": [
        "**The columns and the data it represents are listed below :**\n",
        "\n",
        "1.   **hotel** : Type of hotel (City Hotel or Resort Hotel)\n",
        "\n",
        "2.   **is_canceled** : (1) for cancelled, (0) for not cancelled\n",
        "\n",
        "3.   **lead_time** : Number of days between a guest confirming a reservation at the hotel, and their arrival date.\n",
        "\n",
        "4.   **arrival_date_year** : Year of arrival date (2015, 2016, 2017)\n",
        "\n",
        "5.   **arrival_date_month** : Month of arrival date (January to December)\n",
        "\n",
        "6.   **arrival_date_week_number** : Week number of arrival date (1 - 53)\n",
        "\n",
        "7.   **arrival_date_day_of_month** : Day of arrival date (1 - 31)\n",
        "\n",
        "8.   **stays_in_weekend_nights** : Number of weekend nights spent at the hotel by the guests\n",
        "\n",
        "9.   **stays_in_week_nights** : Number of week nights spent at the hotel by the guests\n",
        "\n",
        "10.  **adults** : Number of adults among the guests\n",
        "\n",
        "11.  **children** : Number of children among the guests\n",
        "\n",
        "12.  **babies** : Number of babies among the guests\n",
        "\n",
        "13.  **meal** : Type of meal booked by the guests. (**BB** - Bread & Breakfast, **FB** - Full Board(breakfast, lunch & dinner), **HB** - Half Board, (breakfast and one other meal — usually dinner), **SC** - Self Catering (no meal package).\n",
        "\n",
        "14.  **country** : Origin country of guests\n",
        "\n",
        "15.  **market_segment** : Designation of the market segment.(Direct, Corporate, Online TA, Offline TA/TO, Complementary, Groups, Aviation)\n",
        "\n",
        "16.  **distribution_channel** : Name of booking distribution channel.(Direct, Corporate, TA/TO , GDS)\n",
        "\n",
        "17.  **is_repeated_guest** : (1) if the booking is from a repeated guest else (0)\n",
        "\n",
        "18.  **previous_cancellations** : Number of previous bookings that were cancelled by the customer prior to the current booking\n",
        "\n",
        "19.  **previous_bookings_not_canceled** : Number of previous bookings that were not cancelled by the customer prior to the current booking\n",
        "\n",
        "20.  **reserved_room_type** : Code of room type reserved\n",
        "\n",
        "21.  **assigned_room_type** : Code of room type assigned. Sometimes the assigned room type differs from the reserved room type due to hotel operation reasons (e.g. overbooking) or by customer request.\n",
        "\n",
        "22.  **booking_changes** : Number of changes/amendments made to the booking from the moment the booking was entered on the system until the moment of check-in or cancellation.\n",
        "\n",
        "23. **deposit_type** : Indication on if the customer made a deposit to guarantee the booking. This variable can assume three categories:No Deposit, Non Refund, Refundable.\n",
        "\n",
        "24. **agent** : ID of travel agent who made the booking.\n",
        "\n",
        "25. **company** : ID of the company that made the booking.\n",
        "\n",
        "26. **days_in_waiting_list** : Number of days the booking was in the waiting list.\n",
        "\n",
        "27. **customer_type** : This variable shows 4 categories of guests, namely - Contract, Group,Transient and Transient-party\n",
        "\n",
        "28. **adr** : This variable shows the Average Daily Rate as defined by dividing the sum of all lodging transactions by the total number of staying nights.\n",
        "\n",
        "29. **required_car_parking_spaces** : Number of car parking spaces required by the customer.\n",
        "\n",
        "30. **total_of_special_requests** : Number of special requests made by the customer (e.g. twin bed, high floor).\n",
        "\n",
        "31. **reservation_status** : Reservation status of the customer. (Check-Out, Canceled, No-Show)\n",
        "\n",
        "32. **reservation_status_date** : Date on which the reservation status got last updated\n",
        "\n",
        "\n"
      ],
      "metadata": {
        "id": "aJV4KIxSnxay"
      }
    },
    {
      "cell_type": "markdown",
      "source": [
        "### Check Unique Values for each variable."
      ],
      "metadata": {
        "id": "u3PMJOP6ngxN"
      }
    },
    {
      "cell_type": "code",
      "source": [
        "# Check Unique Values for each variable.\n",
        "for col in hotel_df.columns:\n",
        "  if hotel_df[col].nunique()<500:\n",
        "    print(f\"The unique values in {col} column are :\")\n",
        "    print(hotel_df[col].unique())\n",
        "    print('\\n')"
      ],
      "metadata": {
        "id": "zms12Yq5n-jE"
      },
      "execution_count": null,
      "outputs": []
    },
    {
      "cell_type": "markdown",
      "source": [
        "### **Outlier treatment**"
      ],
      "metadata": {
        "id": "5UQtpLTnXnFr"
      }
    },
    {
      "cell_type": "code",
      "source": [
        "# Creating a boxplot for Outlier detection\n",
        "columns = ['lead_time', 'stays_in_weekend_nights', 'stays_in_week_nights', 'adults', 'children', 'babies', 'required_car_parking_spaces', 'adr', 'previous_cancellations', 'previous_bookings_not_canceled', 'booking_changes']\n",
        "n = 1\n",
        "plt.figure(figsize=(20,15))\n",
        "\n",
        "for column in columns:\n",
        "  plt.subplot(4,4,n)\n",
        "  n = n+1\n",
        "  sns.boxplot(hotel_df[column])\n",
        "  plt.title('Checking for outliers in {}'.format(column))\n",
        "  plt.tight_layout()"
      ],
      "metadata": {
        "id": "q0Y6gjYiXFY2"
      },
      "execution_count": null,
      "outputs": []
    },
    {
      "cell_type": "markdown",
      "source": [
        "The dataset contains outliers. Now let's remove the outliers by using conditionals to get and update these values."
      ],
      "metadata": {
        "id": "wFwDH_60X9I9"
      }
    },
    {
      "cell_type": "code",
      "source": [
        "hotel_df.loc[hotel_df.lead_time > 500, 'lead_time'] = 500\n",
        "hotel_df.loc[hotel_df.stays_in_weekend_nights >=  5, 'stays_in_weekend_nights'] = 5\n",
        "hotel_df.loc[hotel_df.adults > 4, 'adults'] = 4\n",
        "hotel_df.loc[hotel_df.previous_bookings_not_canceled > 0, 'previous_bookings_not_canceled'] = 1\n",
        "hotel_df.loc[hotel_df.previous_cancellations > 0, 'previous_cancellations'] = 1\n",
        "hotel_df.loc[hotel_df.stays_in_week_nights > 10, 'stays_in_week_nights'] = 10\n",
        "hotel_df.loc[hotel_df.booking_changes > 5, 'booking_changes'] = 5\n",
        "hotel_df.loc[hotel_df.babies > 8, 'babies'] = 0\n",
        "hotel_df.loc[hotel_df.required_car_parking_spaces > 5, 'required_car_parking_spaces'] = 0\n",
        "hotel_df.loc[hotel_df.children > 8, 'children'] = 0\n",
        "hotel_df.loc[hotel_df.adr > 1000, 'adr'] = 1000"
      ],
      "metadata": {
        "id": "3uPJ1b9-YPQX"
      },
      "execution_count": null,
      "outputs": []
    },
    {
      "cell_type": "code",
      "source": [
        "hotel_df.describe()"
      ],
      "metadata": {
        "id": "n2xT_nzyRjoX"
      },
      "execution_count": null,
      "outputs": []
    },
    {
      "cell_type": "markdown",
      "source": [
        "We removed the outliers. Our data is clean now."
      ],
      "metadata": {
        "id": "RORvE7sFbddR"
      }
    },
    {
      "cell_type": "markdown",
      "source": [
        "## 3. ***Data Wrangling***"
      ],
      "metadata": {
        "id": "dauF4eBmngu3"
      }
    },
    {
      "cell_type": "markdown",
      "source": [
        "### Data Wrangling Code"
      ],
      "metadata": {
        "id": "bKJF3rekwFvQ"
      }
    },
    {
      "cell_type": "code",
      "source": [
        "# Correcting the datatype of \"agent\", \"children\" and \"company\" columns\n",
        "hotel_df[['children', 'company', 'agent']] = hotel_df[['children', 'company', 'agent']].astype('int64')"
      ],
      "metadata": {
        "id": "H8JgjBUmvIJr"
      },
      "execution_count": null,
      "outputs": []
    },
    {
      "cell_type": "code",
      "source": [
        "# Adding \"stays_in_weekend_nights\" & \"stays_in_week_nights\" to get total stay duration\n",
        "hotel_df['total_stay'] = hotel_df['stays_in_weekend_nights'] + hotel_df['stays_in_week_nights']"
      ],
      "metadata": {
        "id": "Z1_hHfc3vuXu"
      },
      "execution_count": null,
      "outputs": []
    },
    {
      "cell_type": "code",
      "source": [
        "# Adding \"adults\",\"children\" and \"babies\" columns into \"total_people\" column\n",
        "hotel_df['total_people'] = hotel_df['adults'] + hotel_df['children'] + hotel_df['babies']"
      ],
      "metadata": {
        "id": "US15p5JnwHbF"
      },
      "execution_count": null,
      "outputs": []
    },
    {
      "cell_type": "markdown",
      "metadata": {
        "id": "MSa1f5Uengrz"
      },
      "source": [
        "### What all manipulations have you done and insights you found?"
      ]
    },
    {
      "cell_type": "markdown",
      "metadata": {
        "id": "LbyXE7I1olp8"
      },
      "source": [
        "The Hotel Booking dataset has 119390 rows and 32 columns.The duplicate value count is 31994 rows. After removing the duplicates, there are 87396 rows and  32 columns in the dataset. We found that there are 4 columns (company, agent, country, children) with missing values. We replaced null values in \"agent\" and \"company\" columns with 0, null values in \"children\" column with mode value and missing values in \"country\" column with \"others\". Then we dropped the rows where sum of \"adults\",\"children\" and \"babies\" columns is zero. The columns in the dataset was identified and the data that each column represents is described.\n",
        "\n",
        "The unique values for all the 32 variables were identified. The outliers in the numerical variables were imputed. The datatype of \"agent\", \"children\" and \"company\" columns were changed from float to integer. New column 'total_stay' which is the sum of 'stays_in_weekend_nights' and 'stays_in_week_nights' was added. Another new column 'total_people' which is the sum of 'adults','children' and 'babies' column was added. The data is clean now and is ready for analysis.\n",
        "\n"
      ]
    },
    {
      "cell_type": "markdown",
      "source": [
        "## ***4. Data Vizualization, Storytelling & Experimenting with charts : Understand the relationships between variables***"
      ],
      "metadata": {
        "id": "GF8Ens_Soomf"
      }
    },
    {
      "cell_type": "markdown",
      "source": [
        "#### Chart - 1"
      ],
      "metadata": {
        "id": "QLSvV-KYNxUN"
      }
    },
    {
      "cell_type": "markdown",
      "source": [
        "**Q1) Which type of hotel has highest booking percentage and highest booking cancellation percentage?**"
      ],
      "metadata": {
        "id": "ch0eSmlgN9bk"
      }
    },
    {
      "cell_type": "code",
      "source": [
        "# Chart - 1 visualization code\n",
        "grouped_by_hotel = hotel_df.groupby('hotel')\n",
        "booking_df = pd.DataFrame(grouped_by_hotel.size()).reset_index().rename(columns = {0: 'total_bookings'})\n",
        "booking_df['book_%'] = round((booking_df['total_bookings'] / hotel_df['hotel'].count()) * 100,2)\n",
        "plt.figure(figsize = (8,5))\n",
        "sns.barplot(x = booking_df['hotel'], y = booking_df['book_%'] )\n",
        "plt.title('Highest Booking Percentage by Hotel Type', fontsize=15)\n",
        "plt.xlabel('Hotel Type', fontsize=10)\n",
        "plt.ylabel('Booking %', fontsize=10)\n",
        "plt.show()\n",
        "booking_df"
      ],
      "metadata": {
        "id": "6pfydvQsn2D9"
      },
      "execution_count": null,
      "outputs": []
    },
    {
      "cell_type": "code",
      "source": [
        "# Chart - 1 visualization code\n",
        "cancel = hotel_df[hotel_df['is_canceled'] == 1]\n",
        "cancel_grp = cancel.groupby('hotel')\n",
        "cancellation_df = pd.DataFrame(cancel_grp.size()).reset_index().rename(columns = {0:'total_cancelled_bookings'})\n",
        "cancellation_df['cancel_%'] = round((cancellation_df['total_cancelled_bookings'] / booking_df['total_bookings']) * 100,2)\n",
        "plt.figure(figsize = (8,5))\n",
        "sns.barplot(x = cancellation_df['hotel'], y = cancellation_df['cancel_%'] )\n",
        "plt.title('Highest Booking Cancellation Percentage by Hotel Type', fontsize=15)\n",
        "plt.xlabel('Hotel Type', fontsize=10)\n",
        "plt.ylabel('Cancellation %', fontsize=10)\n",
        "plt.show()\n",
        "cancellation_df"
      ],
      "metadata": {
        "id": "hJd3Zk0womKx"
      },
      "execution_count": null,
      "outputs": []
    },
    {
      "cell_type": "markdown",
      "source": [
        "##### 1. Why did you pick the specific chart?"
      ],
      "metadata": {
        "id": "FxvHE9z4NxUO"
      }
    },
    {
      "cell_type": "markdown",
      "source": [
        "The bar chart is used for fast data exploration and to describe the comparisons between the discrete categories. The X axis of the plot represents the specific categories(Hotel Type) being compared, while the Y axis represents the measured values(Booking % and Cancellation %) corresponding to those categories.The advantage of bar charts over other chart types is that the human eye has evolved a refined ability to compare the length of objects, as opposed to angle or area.\n"
      ],
      "metadata": {
        "id": "Z2ecWKDjNxUO"
      }
    },
    {
      "cell_type": "markdown",
      "source": [
        "##### 2. What is/are the insight(s) found from the chart?"
      ],
      "metadata": {
        "id": "QD1bcK8UNxUP"
      }
    },
    {
      "cell_type": "markdown",
      "source": [
        "\n",
        "*   There are two types of hotel in the dataset - City Hotel and Resort Hotel. City Hotel is most preferred over Resort Hotel.\n",
        "*   The booking percentage in City Hotel is 61.07% whereas in Resort Hotel is 38.93%.\n",
        "*   The booking cancellation percentage in City Hotel is 30.10% whereas in Resort Hotel is 23.48%.\n",
        "*   Hence we can conclude that City Hotel has the highest booking percentage and highest booking cancellation percentage.\n"
      ],
      "metadata": {
        "id": "f4pPlCGoNxUP"
      }
    },
    {
      "cell_type": "markdown",
      "source": [
        "##### 3. Will the gained insights help creating a positive business impact?\n",
        "Are there any insights that lead to negative growth? Justify with specific reason."
      ],
      "metadata": {
        "id": "sA4pRnyINxUQ"
      }
    },
    {
      "cell_type": "markdown",
      "source": [
        "Customers are the lifeblood of every hotel business. Customers make up a more significant percentage of a hotel’s revenue generation.The goal of every hotel owner is to attract customers (both new and old) to their property because it increases the occupancy rate and the hotel’s revenue. Know your guest and offer them free vouchers to visit the cinema, museum, and other exciting places. Give them free upgrades, accept early check-in, offer them pickup and shuttle, maintain excellent room services and embrace special events.One way to attract more customers to your hotel business is to ensure that every member of your staff provides guests with an unbeatable and unforgettable experience.\n",
        " City hotel can find more services to attract more guests to increase their revenue.They can also analyse the probable reason for the high booking cancellation percentage.\n",
        "Resort hotel can find a solution to the low booking percentage and also try to find which facilities provided by City hotel attracts the guest."
      ],
      "metadata": {
        "id": "4iFnFmcRNxUQ"
      }
    },
    {
      "cell_type": "markdown",
      "source": [
        "#### Chart - 2"
      ],
      "metadata": {
        "id": "9PByqATztAdh"
      }
    },
    {
      "cell_type": "markdown",
      "source": [
        "**Q2) Which agent has made the most number of bookings?**"
      ],
      "metadata": {
        "id": "uESdSxOptN8d"
      }
    },
    {
      "cell_type": "code",
      "source": [
        "# Chart - 2 visualization code\n",
        "top_bookings_by_agent = pd.DataFrame(hotel_df['agent'].value_counts()).reset_index().rename(columns = {'index':'agent','agent':'num_of_bookings'}).sort_values(by = 'num_of_bookings', ascending = False)\n",
        "top_bookings_by_agent.drop(top_bookings_by_agent[top_bookings_by_agent['agent'] == 0].index, inplace = True)#Dropping the rows where the agent number is 0\n",
        "top_bookings_by_agent = top_bookings_by_agent[:10] #Selecting top 10 performing agents\n",
        "plt.figure(figsize = (10,5))\n",
        "sns.barplot(x = 'agent', y = 'num_of_bookings', data = top_bookings_by_agent, order = top_bookings_by_agent.sort_values('num_of_bookings', ascending = False).agent)\n",
        "plt.title('Most Number of Bookings by Agent', fontsize=15)\n",
        "plt.xlabel('Agent number', fontsize=10)\n",
        "plt.ylabel('Number of bookings', fontsize=10)\n",
        "plt.show()\n",
        "top_bookings_by_agent"
      ],
      "metadata": {
        "id": "pW85mfwItAdh"
      },
      "execution_count": null,
      "outputs": []
    },
    {
      "cell_type": "markdown",
      "source": [
        "##### 1. Why did you pick the specific chart?"
      ],
      "metadata": {
        "id": "idbgHCjUtAdi"
      }
    },
    {
      "cell_type": "markdown",
      "source": [
        "The bar chart is used for fast data exploration and to describe the comparisons between the discrete categories. The X axis of the plot represents the specific categories(Agent Number) being compared, while the Y axis represents the measured values(Number of bookings) corresponding to those categories.The advantage of bar charts over other chart types is that the human eye has evolved a refined ability to compare the length of objects, as opposed to angle or area."
      ],
      "metadata": {
        "id": "AHc1X6INtAdi"
      }
    },
    {
      "cell_type": "markdown",
      "source": [
        "##### 2. What is/are the insight(s) found from the chart?"
      ],
      "metadata": {
        "id": "F1C32IGStAdi"
      }
    },
    {
      "cell_type": "markdown",
      "source": [
        "*   Agent number 9 has made the most number of bookings (28721).\n",
        "*   Agent number 6 has made the least number of bookings (1117).\n",
        "\n"
      ],
      "metadata": {
        "id": "nji_fqhDtAdi"
      }
    },
    {
      "cell_type": "markdown",
      "source": [
        "##### 3. Will the gained insights help creating a positive business impact?\n",
        "Are there any insights that lead to negative growth? Justify with specific reason."
      ],
      "metadata": {
        "id": "Ot3VUKRytAdj"
      }
    },
    {
      "cell_type": "markdown",
      "source": [
        "The good performance of Agent number 9 can create a positive business impact. Agent number 241, 28, 8, 1 and 6 has to put more effort to increase the number of bookings so that the business is not impacted in a negative manner."
      ],
      "metadata": {
        "id": "YyLrY9qmtAdj"
      }
    },
    {
      "cell_type": "markdown",
      "source": [
        "#### Chart - 3"
      ],
      "metadata": {
        "id": "IyBhPFUlxIRH"
      }
    },
    {
      "cell_type": "markdown",
      "source": [
        "**Q3) Which is the most preferred meal type by the customers?**"
      ],
      "metadata": {
        "id": "wXcrWhbGxIRI"
      }
    },
    {
      "cell_type": "code",
      "source": [
        "# Chart - 3 visualization code\n",
        "plt.figure(figsize=(14,7))\n",
        "sns.countplot(x=hotel_df['meal'],order=hotel_df['meal'].value_counts().index)\n",
        "plt.title(\"Most Preferred Meal Type\", fontsize = 20)\n",
        "plt.xlabel('Meal Type', fontsize = 15)\n",
        "plt.ylabel('Count', fontsize = 15)"
      ],
      "metadata": {
        "id": "YDX1Uvq2xIRI"
      },
      "execution_count": null,
      "outputs": []
    },
    {
      "cell_type": "markdown",
      "source": [
        "##### 1. Why did you pick the specific chart?"
      ],
      "metadata": {
        "id": "i3pYzp5MxIRJ"
      }
    },
    {
      "cell_type": "markdown",
      "source": [
        "A count plot is used here to show the counts of observations in each categorical bin using bars."
      ],
      "metadata": {
        "id": "AlstIa_1xIRJ"
      }
    },
    {
      "cell_type": "markdown",
      "source": [
        "##### 2. What is/are the insight(s) found from the chart?"
      ],
      "metadata": {
        "id": "NA-OFBUwxIRJ"
      }
    },
    {
      "cell_type": "markdown",
      "source": [
        "Bed & Breakfast(BB) is the most preferred meal type of the customers, followed by SC(no meal package), HB(Half Board), Undefined and FB(Full Board)."
      ],
      "metadata": {
        "id": "3dWcTcHAxIRK"
      }
    },
    {
      "cell_type": "markdown",
      "source": [
        "##### 3. Will the gained insights help creating a positive business impact?\n",
        "Are there any insights that lead to negative growth? Justify with specific reason."
      ],
      "metadata": {
        "id": "p4VQa2TjxIRK"
      }
    },
    {
      "cell_type": "markdown",
      "source": [
        "Hotels with Bed & Breakfast(BB) package can attract more guests as this is the most preferred meal type.They can consider giving some interesting discounts and offers on BB package in order to attract more guests. Hotels with no BB package can try to include this meal type in order to attract more guests."
      ],
      "metadata": {
        "id": "jp1GNBy4xIRK"
      }
    },
    {
      "cell_type": "markdown",
      "source": [
        "#### Chart - 4"
      ],
      "metadata": {
        "id": "-Ih-2KWaf798"
      }
    },
    {
      "cell_type": "markdown",
      "source": [
        "**Q4) Which is the most preferred room type by the customers?**"
      ],
      "metadata": {
        "id": "VRq3zU8gf798"
      }
    },
    {
      "cell_type": "code",
      "source": [
        "# Chart - 4 visualization code\n",
        "plt.figure(figsize=(18,8))\n",
        "plt.subplot(1, 2, 1)\n",
        "sns.countplot(x=hotel_df['assigned_room_type'],order=hotel_df['assigned_room_type'].value_counts().index, palette ='husl')\n",
        "plt.title(\"Most Preferred Room Type\", fontsize = 20)\n",
        "plt.xlabel('Room Type', fontsize = 15)\n",
        "plt.ylabel('Count', fontsize = 15)\n",
        "\n",
        "plt.subplot(1, 2, 2)\n",
        "sns.boxplot(x = 'assigned_room_type', y='adr', data = hotel_df)\n",
        "plt.title('ADR for each room type',fontweight=\"bold\", size=20)\n",
        "plt.subplots_adjust(right=1.7)"
      ],
      "metadata": {
        "id": "M5QLbZfff799"
      },
      "execution_count": null,
      "outputs": []
    },
    {
      "cell_type": "markdown",
      "source": [
        "##### 1. Why did you pick the specific chart?"
      ],
      "metadata": {
        "id": "lTG0QtJWf799"
      }
    },
    {
      "cell_type": "markdown",
      "source": [
        "A count plot is used here to show the counts of observations in each categorical bin using bars."
      ],
      "metadata": {
        "id": "Um0ZRkddf799"
      }
    },
    {
      "cell_type": "markdown",
      "source": [
        "##### 2. What is/are the insight(s) found from the chart?"
      ],
      "metadata": {
        "id": "dy6o-BHlf799"
      }
    },
    {
      "cell_type": "markdown",
      "source": [
        "\"A\" is the most preferred room type and \"L\" is the least preferred room type.But better ADR generating rooms are H, G and F."
      ],
      "metadata": {
        "id": "WU9VVwXcf79-"
      }
    },
    {
      "cell_type": "markdown",
      "source": [
        "##### 3. Will the gained insights help creating a positive business impact?\n",
        "Are there any insights that lead to negative growth? Justify with specific reason."
      ],
      "metadata": {
        "id": "oCDvdyNdf79-"
      }
    },
    {
      "cell_type": "markdown",
      "source": [
        "\"A\" type are the most preferred rooms. This makes positive impact on the business. \"H\",\"I\",\"K\",\"L\" type rooms are the less preferred ones and can make a negative impact. Hotels can try to include more \"A\" type rooms to maximize their revenue."
      ],
      "metadata": {
        "id": "e3dGRThrf79-"
      }
    },
    {
      "cell_type": "markdown",
      "source": [
        "#### Chart - 5"
      ],
      "metadata": {
        "id": "0wOQAZs5pc--"
      }
    },
    {
      "cell_type": "markdown",
      "source": [
        "**Q5) How lead time affect the hotel booking?**"
      ],
      "metadata": {
        "id": "3lVgK3QxobRJ"
      }
    },
    {
      "cell_type": "code",
      "source": [
        "# Chart - 5 visualization code\n",
        "plt.figure(figsize=(12,6))\n",
        "sns.barplot(x='arrival_date_year', y='lead_time',hue='is_canceled', data= hotel_df, palette='vlag')\n",
        "plt.title('Arriving year, Leadtime and Cancellations')\n",
        "plt.title(\"Arriving year, Leadtime and Cancellations\", fontsize = 20)\n",
        "plt.xlabel('Arrival Year', fontsize = 15)\n",
        "plt.ylabel('Lead Time', fontsize = 15)"
      ],
      "metadata": {
        "id": "7v_ESjsspbW7"
      },
      "execution_count": null,
      "outputs": []
    },
    {
      "cell_type": "markdown",
      "source": [
        "##### 1. Why did you pick the specific chart?"
      ],
      "metadata": {
        "id": "K5QZ13OEpz2H"
      }
    },
    {
      "cell_type": "markdown",
      "source": [
        "The bar chart is used for fast data exploration and to describe the comparisons between the discrete categories. The X axis of the plot represents the specific categories(Year) being compared, while the Y axis represents the measured values corresponding to those categories and is_canceled variable is used as the hue parameter.The advantage of bar charts over other chart types is that the human eye has evolved a refined ability to compare the length of objects, as opposed to angle or area."
      ],
      "metadata": {
        "id": "XESiWehPqBRc"
      }
    },
    {
      "cell_type": "markdown",
      "source": [
        "##### 2. What is/are the insight(s) found from the chart?"
      ],
      "metadata": {
        "id": "lQ7QKXXCp7Bj"
      }
    },
    {
      "cell_type": "markdown",
      "source": [
        "For all the 3 years(2015-17), bookings with a lead time less than 100 days have fewer chances of getting cancelled, and bookings with lead time more than 100 days have more chances of getting cancelled."
      ],
      "metadata": {
        "id": "C_j1G7yiqdRP"
      }
    },
    {
      "cell_type": "markdown",
      "source": [
        "##### 3. Will the gained insights help creating a positive business impact?\n",
        "Are there any insights that lead to negative growth? Justify with specific reason."
      ],
      "metadata": {
        "id": "448CDAPjqfQr"
      }
    },
    {
      "cell_type": "markdown",
      "source": [
        "Hotels can formulate certain policies on the lead time as it is observed that bookings with lead time more than 100 days have more chances of being cancelled."
      ],
      "metadata": {
        "id": "3cspy4FjqxJW"
      }
    },
    {
      "cell_type": "markdown",
      "source": [
        "#### Chart - 6"
      ],
      "metadata": {
        "id": "yPvYVR4zqgPC"
      }
    },
    {
      "cell_type": "markdown",
      "source": [
        "**Q6) What is the optimal length of stay in both types of hotel?**"
      ],
      "metadata": {
        "id": "hFcyyNhHqk86"
      }
    },
    {
      "cell_type": "code",
      "source": [
        "# Chart - 6 visualization code\n",
        "confirmed_bookings = hotel_df[hotel_df['is_canceled'] == 0]\n",
        "stay_length = confirmed_bookings.groupby(['total_stay','hotel']).agg('count').reset_index()\n",
        "stay_length = stay_length.iloc[:, :3]\n",
        "stay_length = stay_length.rename(columns={'is_canceled':'Number of stays'})\n",
        "stay_length"
      ],
      "metadata": {
        "id": "-4poSnj9qgPC"
      },
      "execution_count": null,
      "outputs": []
    },
    {
      "cell_type": "code",
      "source": [
        "plt.figure(figsize=(14,7))\n",
        "sns.barplot(x='total_stay',y='Number of stays', data=stay_length,hue='hotel')\n",
        "plt.title('Optimal Stay Length in Both Hotel Types', fontsize=20)\n",
        "plt.xlabel('Total Stay in days',fontsize=15)\n",
        "plt.ylabel('Count of stays', fontsize=15)\n",
        "plt.show()"
      ],
      "metadata": {
        "id": "41eROaNTvruj"
      },
      "execution_count": null,
      "outputs": []
    },
    {
      "cell_type": "markdown",
      "source": [
        "##### 1. Why did you pick the specific chart?"
      ],
      "metadata": {
        "id": "8lnJL5fuqgPC"
      }
    },
    {
      "cell_type": "markdown",
      "source": [
        "The bar chart is used for fast data exploration and to describe the comparisons between the discrete categories. The X axis of the plot represents the specific categories(Total Stay in days) being compared, while the Y axis represents the measured values corresponding to those categories and hotel type variable is used as the hue parameter.The advantage of bar charts over other chart types is that the human eye has evolved a refined ability to compare the length of objects, as opposed to angle or area."
      ],
      "metadata": {
        "id": "8Xb262raqgPD"
      }
    },
    {
      "cell_type": "markdown",
      "source": [
        "##### 2. What is/are the insight(s) found from the chart?"
      ],
      "metadata": {
        "id": "LwZAoDibqgPD"
      }
    },
    {
      "cell_type": "markdown",
      "source": [
        "\n",
        "*   Optimal length of stay in both hotel types is less than 7 days.\n",
        "*   For short stay City Hotel is preferred and for long stay Resort Hotel is preferred.\n",
        "*   The most common optimal length of stay in City Hotel is 3 days whereas in Resort Hotel is 1 day.\n",
        "\n",
        "\n",
        "\n",
        "\n"
      ],
      "metadata": {
        "id": "PXEWlPUhqgPD"
      }
    },
    {
      "cell_type": "markdown",
      "source": [
        "##### 3. Will the gained insights help creating a positive business impact?\n",
        "Are there any insights that lead to negative growth? Justify with specific reason."
      ],
      "metadata": {
        "id": "b2Idxu3XqgPD"
      }
    },
    {
      "cell_type": "markdown",
      "source": [
        "More discounts and offers can be given for long stays in order to increase the revenue by both the hotel types."
      ],
      "metadata": {
        "id": "mMemmW1dqgPD"
      }
    },
    {
      "cell_type": "markdown",
      "source": [
        "#### Chart - 7"
      ],
      "metadata": {
        "id": "4Of9eVA-YrdM"
      }
    },
    {
      "cell_type": "markdown",
      "source": [
        "**Q7) Which year has the highest number of bookings and which is the busiest month of the year?**"
      ],
      "metadata": {
        "id": "GXyeWvNdzXV4"
      }
    },
    {
      "cell_type": "code",
      "source": [
        "# Chart - 4 visualization code\n",
        "confirmed_bookings = hotel_df[hotel_df['is_canceled'] == 0]\n",
        "bookings_by_months = confirmed_bookings.groupby(['arrival_date_month'])['hotel'].count().reset_index().rename(columns={'hotel':\"Count of Booking\"})\n",
        "sequence_of_months = ['January', 'February', 'March', 'April', 'May', 'June', 'July', 'August', 'September', 'October', 'November', 'December']\n",
        "bookings_by_months['arrival_date_month']=pd.Categorical(bookings_by_months['arrival_date_month'],categories=sequence_of_months,ordered=True)\n",
        "bookings_by_months=bookings_by_months.sort_values('arrival_date_month')\n",
        "\n",
        "plt.figure(figsize=(15, 8))\n",
        "plt.subplot(1, 2, 1)\n",
        "sns.countplot(x='arrival_date_year',hue='hotel', data=confirmed_bookings,palette='husl')\n",
        "plt.title(\"Arrivals per year in Both Hotels \",fontweight=\"bold\", size=20)\n",
        "plt.xlabel('Year')\n",
        "plt.ylabel('Count')\n",
        "\n",
        "plt.subplot(1, 2, 2)\n",
        "sns.barplot(data=bookings_by_months, x=\"arrival_date_month\", y=\"Count of Booking\")\n",
        "plt.title(\"Number of Bookings in Months\")\n",
        "plt.xlabel('Month')\n",
        "plt.ylabel('Number of Bookings')\n",
        "plt.subplots_adjust(right=1.7)\n",
        "plt.show()\n",
        "bookings_by_months\n"
      ],
      "metadata": {
        "id": "-iRCOIdgjV9z"
      },
      "execution_count": null,
      "outputs": []
    },
    {
      "cell_type": "markdown",
      "source": [
        "##### 1. Why did you pick the specific chart?"
      ],
      "metadata": {
        "id": "iky9q4vBYrdO"
      }
    },
    {
      "cell_type": "markdown",
      "source": [
        "The bar chart is used for fast data exploration and to describe the comparisons between the discrete categories. The X axis of the plot represents the specific categories being compared, while the Y axis represents the measured values corresponding to those categories.The advantage of bar charts over other chart types is that the human eye has evolved a refined ability to compare the length of objects, as opposed to angle or area."
      ],
      "metadata": {
        "id": "aJRCwT6DYrdO"
      }
    },
    {
      "cell_type": "markdown",
      "source": [
        "##### 2. What is/are the insight(s) found from the chart?"
      ],
      "metadata": {
        "id": "F6T5p64dYrdO"
      }
    },
    {
      "cell_type": "markdown",
      "source": [
        "* We can see most of the bookings were in the year 2016 and most bookings were done in City hotel.\n",
        "* August is the most occupied month and January is the most unoccupied month.\n",
        "* The confirmed bookings goes from their lower value (3648) in January to their highest value (7620) in August."
      ],
      "metadata": {
        "id": "Xx8WAJvtYrdO"
      }
    },
    {
      "cell_type": "markdown",
      "source": [
        "##### 3. Will the gained insights help creating a positive business impact?\n",
        "Are there any insights that lead to negative growth? Justify with specific reason."
      ],
      "metadata": {
        "id": "y-Ehk30pYrdP"
      }
    },
    {
      "cell_type": "markdown",
      "source": [
        "* The high number of confirmed bookings in July and August months can have a positive impact on the business.\n",
        "* The less number of confirmed bookings in January ,November and December months have negative impact on the business.\n",
        "* It is ideal to allocate more marketing budget to the busiest seasons."
      ],
      "metadata": {
        "id": "jLNxxz7MYrdP"
      }
    },
    {
      "cell_type": "markdown",
      "source": [
        "#### Chart - 8"
      ],
      "metadata": {
        "id": "PIIx-8_IphqN"
      }
    },
    {
      "cell_type": "markdown",
      "source": [
        "**Q8) Which is the most preferred hotel type for weekend and weekday stay?**"
      ],
      "metadata": {
        "id": "235VFmxm2JWt"
      }
    },
    {
      "cell_type": "code",
      "source": [
        "# Chart - 7 visualization code\n",
        "plt.figure(figsize=(15, 8))\n",
        "plt.subplot(1, 2, 1)\n",
        "sns.countplot(x='stays_in_weekend_nights',hue='hotel', data=hotel_df, palette='cool')\n",
        "plt.title(\"Number of stays on weekend nights\",fontweight=\"bold\", size=20)\n",
        "plt.subplot(1, 2, 2)\n",
        "sns.countplot(x = 'stays_in_weekend_nights', hue='is_canceled', data = hotel_df, palette='rocket')\n",
        "plt.title('WeekendStay vs Cancellation',fontweight=\"bold\", size=20)\n",
        "plt.subplots_adjust(right=1.7)\n",
        "plt.show()"
      ],
      "metadata": {
        "id": "lqAIGUfyphqO"
      },
      "execution_count": null,
      "outputs": []
    },
    {
      "cell_type": "code",
      "source": [
        "plt.figure(figsize=(15, 8))\n",
        "plt.subplot(1, 2, 1)\n",
        "sns.countplot(x='stays_in_week_nights',hue='hotel', data = hotel_df, palette='rainbow_r')\n",
        "plt.title(\"Number of stays on weekday nights\",fontweight=\"bold\", size=20)\n",
        "plt.subplot(1, 2, 2)\n",
        "sns.countplot(x = 'stays_in_week_nights', hue='is_canceled', data = hotel_df, palette='magma_r')\n",
        "plt.title('WeekStay vs Cancellation',fontweight=\"bold\", size=20)\n",
        "plt.subplots_adjust(right=1.7)"
      ],
      "metadata": {
        "id": "Bx0CmG0A2tiK"
      },
      "execution_count": null,
      "outputs": []
    },
    {
      "cell_type": "markdown",
      "source": [
        "##### 1. Why did you pick the specific chart?"
      ],
      "metadata": {
        "id": "t27r6nlMphqO"
      }
    },
    {
      "cell_type": "markdown",
      "source": [
        "The bar chart is used for fast data exploration and to describe the comparisons between the discrete categories. The X axis of the plot represents the specific categories being compared, while the Y axis represents the measured values corresponding to those categories.The advantage of bar charts over other chart types is that the human eye has evolved a refined ability to compare the length of objects, as opposed to angle or area."
      ],
      "metadata": {
        "id": "iv6ro40sphqO"
      }
    },
    {
      "cell_type": "markdown",
      "source": [
        "##### 2. What is/are the insight(s) found from the chart?"
      ],
      "metadata": {
        "id": "r2jJGEOYphqO"
      }
    },
    {
      "cell_type": "markdown",
      "source": [
        "We can see that most of the weekend nights were booked in City Hotel. Also, most of weekend nights which were booked were not cancelled. Weekday night stays was also more in City Hotel. Less cancellations was observed."
      ],
      "metadata": {
        "id": "Po6ZPi4hphqO"
      }
    },
    {
      "cell_type": "markdown",
      "source": [
        "##### 3. Will the gained insights help creating a positive business impact?\n",
        "Are there any insights that lead to negative growth? Justify with specific reason."
      ],
      "metadata": {
        "id": "b0JNsNcRphqO"
      }
    },
    {
      "cell_type": "markdown",
      "source": [
        "Resort Hotel can give more services to impress the guests to book their hotel during the weekend and weekday stay."
      ],
      "metadata": {
        "id": "xvSq8iUTphqO"
      }
    },
    {
      "cell_type": "markdown",
      "source": [
        "#### Chart - 9"
      ],
      "metadata": {
        "id": "RAmnKiKT4j2e"
      }
    },
    {
      "cell_type": "markdown",
      "source": [
        "**Q9) How does bookings varies along year for different types of customers?**"
      ],
      "metadata": {
        "id": "qDod4MEj4pYg"
      }
    },
    {
      "cell_type": "markdown",
      "source": [
        "Let us divide the customers into three categories -'Single', 'Couple' and 'Family/Friends' and then check their booking percentage."
      ],
      "metadata": {
        "id": "hYSSARsa5Bjd"
      }
    },
    {
      "cell_type": "code",
      "source": [
        "# Chart - 9 visualization code\n",
        "confirmed_bookings = hotel_df[hotel_df['is_canceled'] == 0]\n",
        "single   = confirmed_bookings[(confirmed_bookings['adults']==1) & (confirmed_bookings['children']==0) & (confirmed_bookings['babies']==0)]\n",
        "couple   = confirmed_bookings[(confirmed_bookings['adults']==2) & (confirmed_bookings['children']==0) & (confirmed_bookings['babies']==0)]\n",
        "family   = confirmed_bookings[confirmed_bookings['total_people']>2]\n",
        "reindex = ['January', 'February','March','April','May','June','July','August','September','October','November','December']\n",
        "fig, ax = plt.subplots(figsize=(12, 8))\n",
        "\n",
        "for type in ['single', 'couple', 'family']:\n",
        "  d1 = eval(type).groupby(['arrival_date_month']).size().reset_index().rename(columns = {0:'arrival_num'})\n",
        "  d1['arrival_date_month'] = pd.Categorical(d1['arrival_date_month'],categories=reindex,ordered=True)\n",
        "  sns.lineplot(data=d1, x= 'arrival_date_month', y='arrival_num', label=type, ax=ax)\n",
        "\n",
        "plt.grid()\n",
        "plt.show()"
      ],
      "metadata": {
        "id": "EnQGn3VT4j2e"
      },
      "execution_count": null,
      "outputs": []
    },
    {
      "cell_type": "markdown",
      "source": [
        "##### 1. Why did you pick the specific chart?"
      ],
      "metadata": {
        "id": "72yfAK8b4j2e"
      }
    },
    {
      "cell_type": "markdown",
      "source": [
        "A line plot is used to display information as a series of data points connected by straight line segments. It is used to show the trend of data over time.In this visualization, line plot is used to visualize the trend of booking over the year for different customer types(single,couple and family)."
      ],
      "metadata": {
        "id": "wZFY8hO74j2f"
      }
    },
    {
      "cell_type": "markdown",
      "source": [
        "##### 2. What is/are the insight(s) found from the chart?"
      ],
      "metadata": {
        "id": "VwRaS3P14j2f"
      }
    },
    {
      "cell_type": "markdown",
      "source": [
        "Moslty bookings are done by couple (even though data does not specify, we assume that if the number of adult is 2 then they are couple). It is clear from the graph that there is a sudden surge in arrival of couple and family in the months of August and July. So better plans can be made during these months to attract them."
      ],
      "metadata": {
        "id": "mGtphJb84j2f"
      }
    },
    {
      "cell_type": "markdown",
      "source": [
        "##### 3. Will the gained insights help creating a positive business impact?\n",
        "Are there any insights that lead to negative growth? Justify with specific reason."
      ],
      "metadata": {
        "id": "Yli1qg4e4j2f"
      }
    },
    {
      "cell_type": "markdown",
      "source": [
        "Allocate more marketing budget in the busiest seasons(July and August)."
      ],
      "metadata": {
        "id": "iJkmqABr4j2g"
      }
    },
    {
      "cell_type": "markdown",
      "source": [
        "#### Chart - 10"
      ],
      "metadata": {
        "id": "UfMz6QHU9A-K"
      }
    },
    {
      "cell_type": "markdown",
      "source": [
        "**Q10) Which is the most common channel for booking hotels?**"
      ],
      "metadata": {
        "id": "PHNbQtvf9A-L"
      }
    },
    {
      "cell_type": "code",
      "source": [
        "# Chart - 10 visualization code\n",
        "group_by_dc = hotel_df.groupby('distribution_channel')\n",
        "d1 = pd.DataFrame(round((group_by_dc.size()/hotel_df.shape[0])*100,2)).reset_index().rename(columns = {0: 'Booking_%'})\n",
        "plt.figure(figsize = (8,8))\n",
        "data = d1['Booking_%']\n",
        "labels = d1['distribution_channel']\n",
        "plt.pie(x=data, autopct=\"%.2f%%\", explode=[0.05]*5, labels=labels, pctdistance=0.5)\n",
        "plt.title(\"Booking % by Distribution Channels\", fontsize=14);\n"
      ],
      "metadata": {
        "id": "fpIOJWv29A-M"
      },
      "execution_count": null,
      "outputs": []
    },
    {
      "cell_type": "markdown",
      "source": [
        "##### 1. Why did you pick the specific chart?"
      ],
      "metadata": {
        "id": "izu_bv_69A-M"
      }
    },
    {
      "cell_type": "markdown",
      "source": [
        "A pie chart is used here to illustrate the numerical proportion. The above pie chart shows a simple and easy to understand picture of booking percentage through different distribution channels."
      ],
      "metadata": {
        "id": "LMDsQDLS9A-M"
      }
    },
    {
      "cell_type": "markdown",
      "source": [
        "##### 2. What is/are the insight(s) found from the chart?"
      ],
      "metadata": {
        "id": "pv8KejzR9A-M"
      }
    },
    {
      "cell_type": "markdown",
      "source": [
        "TA/TO has the highest booking percentage."
      ],
      "metadata": {
        "id": "CSGKehVl9A-M"
      }
    },
    {
      "cell_type": "markdown",
      "source": [
        "##### 3. Will the gained insights help creating a positive business impact?\n",
        "Are there any insights that lead to negative growth? Justify with specific reason."
      ],
      "metadata": {
        "id": "-Jjfelet9A-M"
      }
    },
    {
      "cell_type": "markdown",
      "source": [
        "* Use of TA/TO distribution channel has a positive impact on the business.\n",
        "* Use of GDS and undefined channels has a negative impact on the business.\n",
        "* The booking percentage of TA/TO is 79.13% whereas GDS is 0.21%."
      ],
      "metadata": {
        "id": "9PALd3ko9A-N"
      }
    },
    {
      "cell_type": "markdown",
      "source": [
        "#### Chart - 11"
      ],
      "metadata": {
        "id": "uvFRQW82_oRw"
      }
    },
    {
      "cell_type": "markdown",
      "source": [
        "**Q11) Which hotel type has the highest ADR?**"
      ],
      "metadata": {
        "id": "As68XQmC_oRx"
      }
    },
    {
      "cell_type": "code",
      "source": [
        "# Chart - 11 visualization code\n",
        "adr_df = grouped_by_hotel['adr'].agg(np.mean).reset_index().rename(columns = {'adr':'avg_adr'}) # calculating average adr\n",
        "plt.figure(figsize = (8,5))\n",
        "sns.barplot(x = adr_df['hotel'], y = adr_df['avg_adr'] )\n",
        "plt.title(\"Average ADR by Hotel Type\", fontsize = 20)\n",
        "plt.xlabel('Hotel Type', fontsize = 15)\n",
        "plt.ylabel('Average ADR', fontsize = 15)\n",
        "plt.show()"
      ],
      "metadata": {
        "id": "0fGhi31k_oRx"
      },
      "execution_count": null,
      "outputs": []
    },
    {
      "cell_type": "markdown",
      "source": [
        "##### 1. Why did you pick the specific chart?"
      ],
      "metadata": {
        "id": "EaNpT5mw_oRx"
      }
    },
    {
      "cell_type": "markdown",
      "source": [
        "The bar chart is used for fast data exploration and to describe the comparisons between the discrete categories. The X axis of the plot represents the specific categories(Hotel Type) being compared, while the Y axis represents the measured values(Average ADR) corresponding to those categories.The advantage of bar charts over other chart types is that the human eye has evolved a refined ability to compare the length of objects, as opposed to angle or area."
      ],
      "metadata": {
        "id": "mzMh1cLj_oRy"
      }
    },
    {
      "cell_type": "markdown",
      "source": [
        "##### 2. What is/are the insight(s) found from the chart?"
      ],
      "metadata": {
        "id": "xHlKlGlv_oRy"
      }
    },
    {
      "cell_type": "markdown",
      "source": [
        "Average ADR of City Hotel is slightly higher than that of Resort Hotel. Hence, City hotel seems to be making slightly more revenue."
      ],
      "metadata": {
        "id": "dNLT4Evf_oRy"
      }
    },
    {
      "cell_type": "markdown",
      "source": [
        "##### 3. Will the gained insights help creating a positive business impact?\n",
        "Are there any insights that lead to negative growth? Justify with specific reason."
      ],
      "metadata": {
        "id": "WfqAy1On_oRy"
      }
    },
    {
      "cell_type": "markdown",
      "source": [
        "* The high ADR of City Hotel can have a positive impact on the business.\n",
        "* The low ADR of Resort Hotel can have a negative impact on the business.\n",
        "* High ADR of City Hotel indicates that they make more revenue when compared to Resort Hotel.\n",
        "* Resort Hotel should consider to enhance their facilities which can increase their revenue."
      ],
      "metadata": {
        "id": "sIcEXX9P_oRy"
      }
    },
    {
      "cell_type": "markdown",
      "source": [
        "#### Chart - 12"
      ],
      "metadata": {
        "id": "N0-5QTYcBvPo"
      }
    },
    {
      "cell_type": "markdown",
      "source": [
        "**Q12) Which hotel has longer waiting time?**"
      ],
      "metadata": {
        "id": "pQLXJWgbBvPp"
      }
    },
    {
      "cell_type": "code",
      "source": [
        "# Chart - 11 visualization code\n",
        "d5 = pd.DataFrame(grouped_by_hotel['days_in_waiting_list'].agg(np.mean).reset_index().rename(columns = {'days_in_waiting_list':'avg_waiting_period'}))\n",
        "plt.figure(figsize = (8,5))\n",
        "sns.barplot(x = d5['hotel'], y = d5['avg_waiting_period'] )\n",
        "plt.title(\"Average Waiting Period by Hotel Type\", fontsize = 20)\n",
        "plt.xlabel('Hotel Type', fontsize = 15)\n",
        "plt.ylabel('Average Waiting Period', fontsize = 15)\n",
        "plt.show()"
      ],
      "metadata": {
        "id": "DnsXh85yBvPp"
      },
      "execution_count": null,
      "outputs": []
    },
    {
      "cell_type": "markdown",
      "source": [
        "##### 1. Why did you pick the specific chart?"
      ],
      "metadata": {
        "id": "GAWDGtGrBvPp"
      }
    },
    {
      "cell_type": "markdown",
      "source": [
        "The bar chart is used for fast data exploration and to describe the comparisons between the discrete categories. The X axis of the plot represents the specific categories(Hotel Type) being compared, while the Y axis represents the measured values(Average Waiting Period) corresponding to those categories.The advantage of bar charts over other chart types is that the human eye has evolved a refined ability to compare the length of objects, as opposed to angle or area."
      ],
      "metadata": {
        "id": "oARtll3wBvPq"
      }
    },
    {
      "cell_type": "markdown",
      "source": [
        "##### 2. What is/are the insight(s) found from the chart?"
      ],
      "metadata": {
        "id": "kkpQ5tLUBvPq"
      }
    },
    {
      "cell_type": "markdown",
      "source": [
        "City hotel has significantly longer waiting time. Hence City Hotel is much busier than Resort Hotel."
      ],
      "metadata": {
        "id": "BU5ot56bBvPq"
      }
    },
    {
      "cell_type": "markdown",
      "source": [
        "##### 3. Will the gained insights help creating a positive business impact?\n",
        "Are there any insights that lead to negative growth? Justify with specific reason."
      ],
      "metadata": {
        "id": "Pgcrhi2PBvPq"
      }
    },
    {
      "cell_type": "markdown",
      "source": [
        "Longer waiting time of City Hotel indicates that it is much busier than Resort Hotel. This means than City Hotel is in most demand and is attracting more guest which in turn contributes to their revenue. Resort Hotel can enhance their facilities to attract more guests."
      ],
      "metadata": {
        "id": "AsUOvOaaBvPq"
      }
    },
    {
      "cell_type": "markdown",
      "source": [
        "#### Chart - 13"
      ],
      "metadata": {
        "id": "AsySOlPpadlg"
      }
    },
    {
      "cell_type": "markdown",
      "source": [
        "**Q13) Which hotel has high chance that its customer will return for another stay?**"
      ],
      "metadata": {
        "id": "NDRH42iVadlh"
      }
    },
    {
      "cell_type": "code",
      "source": [
        "# Chart - 11 visualization code\n",
        "# Selecting and counting repeated customers bookings\n",
        "repeated_guest_data = hotel_df[hotel_df['is_repeated_guest'] == 1]\n",
        "repeat_guest_grp = repeated_guest_data.groupby('hotel')\n",
        "total_repeated_df = pd.DataFrame(repeat_guest_grp.size()).rename(columns = {0:'total_repeated_guests'})\n",
        "\n",
        "# Counting total bookings\n",
        "total_booking = grouped_by_hotel.size()\n",
        "total_booking_df = pd.DataFrame(total_booking).rename(columns = {0: 'total_bookings'})\n",
        "combined_df = pd.concat([total_repeated_df,total_booking_df], axis = 1)\n",
        "\n",
        "# Calculating repeat %\n",
        "combined_df['repeat_%'] = round((combined_df['total_repeated_guests']/combined_df['total_bookings'])*100,2)\n",
        "\n",
        "plt.figure(figsize = (10,5))\n",
        "sns.barplot(x = combined_df.index, y = combined_df['repeat_%'])\n",
        "plt.show()\n",
        "combined_df"
      ],
      "metadata": {
        "id": "tWgIEYinadli"
      },
      "execution_count": null,
      "outputs": []
    },
    {
      "cell_type": "markdown",
      "source": [
        "##### 1. Why did you pick the specific chart?"
      ],
      "metadata": {
        "id": "DeUgRVAaadli"
      }
    },
    {
      "cell_type": "markdown",
      "source": [
        "The bar chart is used for fast data exploration and to describe the comparisons between the discrete categories. The X axis of the plot represents the specific categories(Hotel Type) being compared, while the Y axis represents the measured values(Repeat %) corresponding to those categories.The advantage of bar charts over other chart types is that the human eye has evolved a refined ability to compare the length of objects, as opposed to angle or area."
      ],
      "metadata": {
        "id": "UUMGwxMwadli"
      }
    },
    {
      "cell_type": "markdown",
      "source": [
        "##### 2. What is/are the insight(s) found from the chart?"
      ],
      "metadata": {
        "id": "vzbEOXDwadlj"
      }
    },
    {
      "cell_type": "markdown",
      "source": [
        "Both hotels have very small percentage that customer will repeat, but Resort hotel has slightly higher repeat % than City Hotel."
      ],
      "metadata": {
        "id": "edNF_bOnadlj"
      }
    },
    {
      "cell_type": "markdown",
      "source": [
        "##### 3. Will the gained insights help creating a positive business impact?\n",
        "Are there any insights that lead to negative growth? Justify with specific reason."
      ],
      "metadata": {
        "id": "SXFUjfDXadlj"
      }
    },
    {
      "cell_type": "markdown",
      "source": [
        "Yes, the gained insights help in creating a positive business impact. The hotels which are not booked repeatedly by guests can take feedbacks from the guests and can try to impove there services. Post-stay communication increases the chances of a repeat booking. Staying in contact with your hotel visitors after they leave effectively brings customers to a facility. It shows them you care about the experience they got from patronizing your hotel. Be in contact with them quickly, offer them discount for future visits, a promotion, or something else, to keep your hotel in the back of their mind and address their complaints quickly. Loyalty programs are one strategy that can help ensure your customers revisit your property. These programs aim to deliver significant discounts and unique bonuses to returning customers. It allows guests to reach a certain level or point per year for visiting your hotel."
      ],
      "metadata": {
        "id": "5gMP7K1Kadlk"
      }
    },
    {
      "cell_type": "markdown",
      "source": [
        "#### Chart - 14"
      ],
      "metadata": {
        "id": "zOwKXrn7gFf1"
      }
    },
    {
      "cell_type": "markdown",
      "source": [
        "**Q14) Which distribution channel brings better revenue generating deals for hotels?**"
      ],
      "metadata": {
        "id": "TCkL53dagFf2"
      }
    },
    {
      "cell_type": "code",
      "source": [
        "# Chart - 11 visualization code\n",
        "group_by_dc_hotel = hotel_df.groupby(['distribution_channel', 'hotel'])\n",
        "d5 = pd.DataFrame(round((group_by_dc_hotel['adr']).agg(np.mean),2)).reset_index().rename(columns = {'adr': 'avg_adr'})\n",
        "plt.figure(figsize = (7,5))\n",
        "sns.barplot(x = d5['distribution_channel'], y = d5['avg_adr'], hue = d5['hotel'])\n",
        "plt.ylim(40,140)\n",
        "plt.show()"
      ],
      "metadata": {
        "id": "zL9v_KyHgFf2"
      },
      "execution_count": null,
      "outputs": []
    },
    {
      "cell_type": "markdown",
      "source": [
        "##### 1. Why did you pick the specific chart?"
      ],
      "metadata": {
        "id": "5LC65KHygFf3"
      }
    },
    {
      "cell_type": "markdown",
      "source": [
        "The bar chart is used for fast data exploration and to describe the comparisons between the discrete categories. The X axis of the plot represents the specific categories(Distribution Channel) being compared, while the Y axis represents the measured values(Average ADR) corresponding to those categories.The advantage of bar charts over other chart types is that the human eye has evolved a refined ability to compare the length of objects, as opposed to angle or area."
      ],
      "metadata": {
        "id": "wblaV_rHgFf4"
      }
    },
    {
      "cell_type": "markdown",
      "source": [
        "##### 2. What is/are the insight(s) found from the chart?"
      ],
      "metadata": {
        "id": "8v953VlygFf4"
      }
    },
    {
      "cell_type": "markdown",
      "source": [
        "* GDS channel brings higher revenue generating deals for City hotel, in contrast to the fact that most of the bookings come via TA/TO. City Hotel can work to increase outreach on GDS channels to get higher revenue generating deals.\n",
        "* Resort hotel has more revenue generating deals by direct and TA/TO channel. Resort Hotel need to increase outreach on GDS channel to increase revenue."
      ],
      "metadata": {
        "id": "ggBAegxmgFf4"
      }
    },
    {
      "cell_type": "markdown",
      "source": [
        "##### 3. Will the gained insights help creating a positive business impact?\n",
        "Are there any insights that lead to negative growth? Justify with specific reason."
      ],
      "metadata": {
        "id": "_PDkPu4hgFf5"
      }
    },
    {
      "cell_type": "markdown",
      "source": [
        "* GDS distribution channel contributed more to adr for City Hotel and Undefined distribution channel contributed more to adr for resort hotel. More ADR is a positive impact on the business.\n",
        "* GDS distribution channel has no contribution to the adr of Resort Hotel and Undefined distribution channel contributed less to adr of City Hotel. Less ADR is a negative impact on the business."
      ],
      "metadata": {
        "id": "uRSuksfwgFf6"
      }
    },
    {
      "cell_type": "markdown",
      "source": [
        "#### Chart - 15"
      ],
      "metadata": {
        "id": "n3dbpmDWp1ck"
      }
    },
    {
      "cell_type": "markdown",
      "source": [
        "**Q15) Which is the home country of most of the customers?**"
      ],
      "metadata": {
        "id": "HkSQTRaNE-1d"
      }
    },
    {
      "cell_type": "code",
      "source": [
        "# Chart - 15 visualization code\n",
        "import plotly.express as px\n",
        "country_visitors = hotel_df[hotel_df['is_canceled'] == 0].groupby(['country']).size().reset_index(name = 'count')\n",
        "px.choropleth(country_visitors,\n",
        "                    locations = \"country\",\n",
        "                    color= \"count\" ,\n",
        "                    hover_name= \"country\", # column to add to hover information\n",
        "                    color_continuous_scale=\"Viridis\",\n",
        "                    title=\"Home country of visitors\")"
      ],
      "metadata": {
        "id": "bwevp1tKp1ck"
      },
      "execution_count": null,
      "outputs": []
    },
    {
      "cell_type": "code",
      "source": [
        "grouped_by_country = hotel_df.groupby('country')\n",
        "d1 = pd.DataFrame(grouped_by_country.size()).reset_index().rename(columns = {0:'Count'}).sort_values('Count', ascending = False)[:10]\n",
        "sns.barplot(x = d1['country'], y  = d1['Count'])\n",
        "plt.show()"
      ],
      "metadata": {
        "id": "GTKRAW1RpfyU"
      },
      "execution_count": null,
      "outputs": []
    },
    {
      "cell_type": "markdown",
      "source": [
        "##### 1. Why did you pick the specific chart?"
      ],
      "metadata": {
        "id": "ylSl6qgtp1ck"
      }
    },
    {
      "cell_type": "markdown",
      "source": [
        "Choropleth map is used to plot the origin country of most of the customers . Also the bar chart is used for fast data exploration and to describe the comparisons between the discrete categories. The X axis of the plot represents the specific categories(Country) being compared, while the Y axis represents the measured values corresponding to those categories.The advantage of bar charts over other chart types is that the human eye has evolved a refined ability to compare the length of objects, as opposed to angle or area."
      ],
      "metadata": {
        "id": "m2xqNkiQp1ck"
      }
    },
    {
      "cell_type": "markdown",
      "source": [
        "##### 2. What is/are the insight(s) found from the chart?"
      ],
      "metadata": {
        "id": "ZWILFDl5p1ck"
      }
    },
    {
      "cell_type": "markdown",
      "source": [
        "More visitors are from Western Europe, namely France, UK and Portugal being the highest."
      ],
      "metadata": {
        "id": "x-lUsV2mp1ck"
      }
    },
    {
      "cell_type": "markdown",
      "source": [
        "##### 3. Will the gained insights help creating a positive business impact?\n",
        "Are there any insights that lead to negative growth? Justify with specific reason."
      ],
      "metadata": {
        "id": "M7G43BXep1ck"
      }
    },
    {
      "cell_type": "markdown",
      "source": [
        "More marketing campaigns can be run on Western Europe, particularly France, UK and Portugal to attract more guests."
      ],
      "metadata": {
        "id": "5wwDJXsLp1cl"
      }
    },
    {
      "cell_type": "markdown",
      "source": [
        "#### Chart - 16- Correlation Heatmap"
      ],
      "metadata": {
        "id": "c5NIuDembIDd"
      }
    },
    {
      "cell_type": "code",
      "source": [
        "# Correlation Heatmap visualization code\n",
        "new_hotel_df = hotel_df[['lead_time','previous_cancellations','previous_bookings_not_canceled','booking_changes','days_in_waiting_list','adr','required_car_parking_spaces','total_of_special_requests','total_stay','total_people']]\n",
        "plt.figure(figsize=(12,8))\n",
        "sns.heatmap(new_hotel_df.corr(),annot=True,cmap='RdYlGn')"
      ],
      "metadata": {
        "id": "1zrUDlrwLovD"
      },
      "execution_count": null,
      "outputs": []
    },
    {
      "cell_type": "markdown",
      "source": [
        "##### 1. Why did you pick the specific chart?"
      ],
      "metadata": {
        "id": "f7VE_yMTbIDf"
      }
    },
    {
      "cell_type": "markdown",
      "source": [
        "Heat map is used in the above visualization to understand the correlation between the variables."
      ],
      "metadata": {
        "id": "N5zYg-szbIDf"
      }
    },
    {
      "cell_type": "markdown",
      "source": [
        "##### 2. What is/are the insight(s) found from the chart?"
      ],
      "metadata": {
        "id": "7oTXpAl-bIDg"
      }
    },
    {
      "cell_type": "markdown",
      "source": [
        "* Total stay and the lead time have positive correlation. This may be interpreted that for longer hotel stays, usually people plan in advance.\n",
        "* ADR is positively correlated with total_people, which defines that as more number of people increases more revenue."
      ],
      "metadata": {
        "id": "L0_mvDWJbIDg"
      }
    },
    {
      "cell_type": "markdown",
      "source": [
        "## **5. Solution to Business Objective**"
      ],
      "metadata": {
        "id": "JcMwzZxoAimU"
      }
    },
    {
      "cell_type": "markdown",
      "source": [
        "#### What do you suggest the client to achieve Business Objective ?"
      ],
      "metadata": {
        "id": "8G2x9gOozGDZ"
      }
    },
    {
      "cell_type": "markdown",
      "source": [
        "* Customers are the lifeblood of every hotel business. Customers make up a more significant percentage of a hotel’s revenue generation.The goal of every hotel owner is to attract customers (both new and old) to their property because it increases the occupancy rate and the hotel’s revenue. Know your guest and offer them free vouchers to visit the cinema, museum, and other exciting places.\n",
        "\n",
        "* Give the guests free upgrades, accept early check-in, offer them pickup and shuttle, maintain excellent room services and embrace special events.One way to attract more customers to your hotel business is to ensure that every member of your staff provides guests with an unbeatable and unforgettable experience.\n",
        "\n",
        "* Interesting discounts and offers can be given on BB package in order to attract more guests.\n",
        "\n",
        "* Increase room types A, H inorder to increase adr and maximise profits.\n",
        "\n",
        "* As the peak season is from May to August, with August as the highest booked month, management should consider to utilise staff effectively.\n",
        "\n",
        "* As majority of the customers are from Portugal and western Europe, management should plan marketing activities in those regions respectively.\n",
        "\n",
        "* Most preferred stay in hotels is 3 days, hotel management should introduce loyalty service, offers, tourism package in order to increase the stay of customers and to generate more revenue.\n",
        "\n",
        "\n",
        "* As the City Hotel has more bookings, it generates more revenue and it has more cancellations as well. Management may consider to provide customers with hourly booking option as most of the customers prefer short stay at City Hotel.\n",
        "\n",
        "* The hotels which are not booked repeatedly by guests can take feedbacks from the guests and can try to impove there services.\n",
        "\n",
        "* Post-stay communication increases the chances of a repeat booking. Staying in contact with your hotel visitors after they leave effectively brings customers to a facility. It shows them you care about the experience they got from patronizing your hotel. Be in contact with them quickly, offer them discount for future visits, a promotion, or something else, to keep your hotel in the back of their mind and address their complaints quickly.\n",
        "\n",
        "* Loyalty programs are one strategy that can help ensure your customers revisit your property. These programs aim to deliver significant discounts and unique bonuses to returning customers. It allows guests to reach a certain level or point per year for visiting your hotel."
      ],
      "metadata": {
        "id": "pASKb0qOza21"
      }
    },
    {
      "cell_type": "markdown",
      "source": [
        "# **Conclusion**"
      ],
      "metadata": {
        "id": "gCX9965dhzqZ"
      }
    },
    {
      "cell_type": "markdown",
      "source": [
        "*   **City Hotel** has the highest booking percentage (61.07%) and highest booking cancellation percentage (30.10%). Average ADR of City Hotel is slightly higher than that of Resort Hotel. Hence, City hotel seems to be making slightly more revenue.\n",
        "\n",
        "\n",
        "*   **Agent number 9** has made the most number of bookings (28721).\n",
        "\n",
        "\n",
        "*   **Bed & Breakfast(BB)** is the most preferred meal type of the customers, followed by SC(no meal package), HB(Half Board), Undefined and FB(Full Board).\n",
        "\n",
        "\n",
        "*   \"**A**\" is the most preferred room type and \"**L**\" is the least preferred room type.\n",
        "\n",
        "\n",
        "*  Bookings with a lead time less than 100 days have fewer chances of getting cancelled, and bookings with lead time more than 100 days have more chances of getting cancelled.\n",
        "\n",
        "\n",
        "* Optimal length of stay in both hotel types is less than 7 days.\n",
        "\n",
        "\n",
        "*   Most demanded room type is **A**, but better ADR generating rooms **H, G and F**. Hotels should increase the no. of room types A and H to maximise revenue.\n",
        "\n",
        "\n",
        "*  We can see most of the bookings were in the year 2016 and most bookings were done in City hotel.August is the most occupied month and January is the most unoccupied month.\n",
        "\n",
        "\n",
        "* City Hotel is the most preferred hotel type for weekend and weekday stay.\n",
        "\n",
        "* City hotel has significantly longer waiting time. Hence City Hotel is much busier than Resort Hotel.\n",
        "\n",
        "\n",
        "* Both hotels have very small percentage that customer will repeat, but Resort hotel has slightly higher repeat % than City Hotel.\n",
        "\n",
        "\n",
        "* Guests use different channels for making bookings, out of which most preferred one is **TA/TO**.\n",
        "\n",
        "* **GDS** channel brings higher revenue generating deals for City hotel.\n",
        "\n",
        "\n",
        "* More visitors are from Western Europe, namely France, UK and **Portugal** being the highest.\n",
        "\n",
        "* Couples are the most common guests for hotels, hence hotels can plan services according to couples needs to increase revenue.\n",
        "\n",
        "\n",
        "\n",
        "\n"
      ],
      "metadata": {
        "id": "Fjb1IsQkh3yE"
      }
    },
    {
      "cell_type": "markdown",
      "source": [
        "### ***Hurrah! You have successfully completed your EDA Capstone Project !!!***"
      ],
      "metadata": {
        "id": "gIfDvo9L0UH2"
      }
    }
  ]
}