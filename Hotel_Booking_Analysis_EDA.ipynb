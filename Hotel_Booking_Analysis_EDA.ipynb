{
  "nbformat": 4,
  "nbformat_minor": 0,
  "metadata": {
    "colab": {
      "private_outputs": true,
      "provenance": [],
      "collapsed_sections": [
        "K5QZ13OEpz2H",
        "lQ7QKXXCp7Bj",
        "448CDAPjqfQr",
        "t6dVpIINYklI",
        "ijmpgYnKYklI",
        "-JiQyfWJYklI",
        "fge-S5ZAYoAp",
        "85gYPyotYoAp",
        "RoGjAbkUYoAp",
        "iky9q4vBYrdO",
        "F6T5p64dYrdO",
        "y-Ehk30pYrdP",
        "bamQiAODYuh1",
        "QHF8YVU7Yuh3",
        "GwzvFGzlYuh3",
        "qYpmQ266Yuh3",
        "OH-pJp9IphqM",
        "bbFf2-_FphqN",
        "_ouA3fa0phqN",
        "Seke61FWphqN",
        "PIIx-8_IphqN",
        "t27r6nlMphqO",
        "r2jJGEOYphqO",
        "b0JNsNcRphqO",
        "BZR9WyysphqO",
        "jj7wYXLtphqO",
        "eZrbJ2SmphqO",
        "rFu4xreNphqO",
        "YJ55k-q6phqO",
        "gCFgpxoyphqP",
        "OVtJsKN_phqQ",
        "lssrdh5qphqQ",
        "U2RJ9gkRphqQ",
        "1M8mcRywphqQ",
        "tgIPom80phqQ",
        "JMzcOPDDphqR",
        "x-EpHcCOp1ci",
        "X_VqEhTip1ck",
        "8zGJKyg5p1ck",
        "PVzmfK_Ep1ck",
        "n3dbpmDWp1ck",
        "ylSl6qgtp1ck",
        "ZWILFDl5p1ck",
        "M7G43BXep1ck",
        "Ag9LCva-p1cl",
        "E6MkPsBcp1cl",
        "2cELzS2fp1cl",
        "3MPXvC8up1cl",
        "NC_X3p0fY2L0",
        "UV0SzAkaZNRQ",
        "YPEH6qLeZNRQ",
        "q29F0dvdveiT",
        "EXh0U9oCveiU",
        "22aHeOlLveiV",
        "gIfDvo9L0UH2"
      ],
      "include_colab_link": true
    },
    "kernelspec": {
      "name": "python3",
      "display_name": "Python 3"
    },
    "language_info": {
      "name": "python"
    }
  },
  "cells": [
    {
      "cell_type": "markdown",
      "metadata": {
        "id": "view-in-github",
        "colab_type": "text"
      },
      "source": [
        "<a href=\"https://colab.research.google.com/github/AnjanaAnoop/Hotel-Booking-Analysis-EDA-Project/blob/main/Hotel_Booking_Analysis_EDA.ipynb\" target=\"_parent\"><img src=\"https://colab.research.google.com/assets/colab-badge.svg\" alt=\"Open In Colab\"/></a>"
      ]
    },
    {
      "cell_type": "markdown",
      "source": [
        "# **Project Name**    - Hotel Booking Analysis\n",
        "\n"
      ],
      "metadata": {
        "id": "vncDsAP0Gaoa"
      }
    },
    {
      "cell_type": "markdown",
      "source": [
        "##### **Project Type**    - EDA\n",
        "##### **Contribution**    - Individual\n",
        "##### **Team Member 1 -** Anjana K\n",
        "##### **Team Member 2 -**\n"
      ],
      "metadata": {
        "id": "beRrZCGUAJYm"
      }
    },
    {
      "cell_type": "markdown",
      "source": [
        "# **Project Summary -**"
      ],
      "metadata": {
        "id": "FJNUwmbgGyua"
      }
    },
    {
      "cell_type": "markdown",
      "source": [
        "Hotel Booking data set contains booking information for a city hotel and a resort hotel, and includes information such as when the booking was made, length of stay, the number of adults, children, and/or babies, and the number of available parking spaces, among other things.All personally identifying information has been removed from the data.Let's explore and analyse the data to discover important factors that govern the bookings."
      ],
      "metadata": {
        "id": "F6v_1wHtG2nS"
      }
    },
    {
      "cell_type": "markdown",
      "source": [
        "# **GitHub Link -**"
      ],
      "metadata": {
        "id": "w6K7xa23Elo4"
      }
    },
    {
      "cell_type": "markdown",
      "source": [
        "https://github.com/AnjanaAnoop"
      ],
      "metadata": {
        "id": "h1o69JH3Eqqn"
      }
    },
    {
      "cell_type": "markdown",
      "source": [
        "# **Problem Statement**\n"
      ],
      "metadata": {
        "id": "yQaldy8SH6Dl"
      }
    },
    {
      "cell_type": "markdown",
      "source": [
        "**The hotel bookings analysis project has information about the number of adults, children, and / or babies, booking cancellation details, the length of the stay, distribution channel details, among other details. To perform data analysis and visualization to explore the key factors that govern the hotel bookings.**"
      ],
      "metadata": {
        "id": "DpeJGUA3kjGy"
      }
    },
    {
      "cell_type": "markdown",
      "source": [
        "#### **Define Your Business Objective?**"
      ],
      "metadata": {
        "id": "PH-0ReGfmX4f"
      }
    },
    {
      "cell_type": "markdown",
      "source": [
        "The main objectives of this project is to explore the key factors driving the hotel bookings such as :\n",
        "\n",
        "To know which hotel is making more revenue.\n",
        "To identify most common customer type.\n",
        "To find the most preferred length of stay in each hotel.\n",
        "To understand the peak season.\n",
        "To know the most preferred meal type by customers.\n",
        "To find the pecentage of bookings in each hotel.\n",
        "To identify which hotel has highest bookings cancellation percentage.\n",
        "To find which country customers have highest bookings.\n",
        "To know average ADR for each hotel.\n",
        "To identify which room type is in most demand and which room type generate the highest adr.\n",
        "To know the most preferred distribution channel for bookings.\n",
        "To know which distribution channel has the highest cancellation percentage.\n",
        "To identify which types of customers make the most bookings."
      ],
      "metadata": {
        "id": "PhDvGCAqmjP1"
      }
    },
    {
      "cell_type": "markdown",
      "source": [
        "# **General Guidelines** : -  "
      ],
      "metadata": {
        "id": "mDgbUHAGgjLW"
      }
    },
    {
      "cell_type": "markdown",
      "source": [
        "1.   Well-structured, formatted, and commented code is required.\n",
        "2.   Exception Handling, Production Grade Code & Deployment Ready Code will be a plus. Those students will be awarded some additional credits.\n",
        "     \n",
        "     The additional credits will have advantages over other students during Star Student selection.\n",
        "       \n",
        "             [ Note: - Deployment Ready Code is defined as, the whole .ipynb notebook should be executable in one go\n",
        "                       without a single error logged. ]\n",
        "\n",
        "3.   Each and every logic should have proper comments.\n",
        "4. You may add as many number of charts you want. Make Sure for each and every chart the following format should be answered.\n",
        "        \n",
        "\n",
        "```\n",
        "# Chart visualization code\n",
        "```\n",
        "            \n",
        "\n",
        "*   Why did you pick the specific chart?\n",
        "*   What is/are the insight(s) found from the chart?\n",
        "* Will the gained insights help creating a positive business impact?\n",
        "Are there any insights that lead to negative growth? Justify with specific reason.\n",
        "\n",
        "5. You have to create at least 20 logical & meaningful charts having important insights.\n",
        "\n",
        "\n",
        "[ Hints : - Do the Vizualization in  a structured way while following \"UBM\" Rule.\n",
        "\n",
        "U - Univariate Analysis,\n",
        "\n",
        "B - Bivariate Analysis (Numerical - Categorical, Numerical - Numerical, Categorical - Categorical)\n",
        "\n",
        "M - Multivariate Analysis\n",
        " ]\n",
        "\n",
        "\n",
        "\n"
      ],
      "metadata": {
        "id": "ZrxVaUj-hHfC"
      }
    },
    {
      "cell_type": "markdown",
      "source": [
        "# ***Let's Begin !***"
      ],
      "metadata": {
        "id": "O_i_v8NEhb9l"
      }
    },
    {
      "cell_type": "markdown",
      "source": [
        "## ***1. Know Your Data***"
      ],
      "metadata": {
        "id": "HhfV-JJviCcP"
      }
    },
    {
      "cell_type": "markdown",
      "source": [
        "### Import Libraries"
      ],
      "metadata": {
        "id": "Y3lxredqlCYt"
      }
    },
    {
      "cell_type": "markdown",
      "source": [
        "First,we import the libraries and modules which we have to use in this analysis."
      ],
      "metadata": {
        "id": "b4YxjHyp6Twt"
      }
    },
    {
      "cell_type": "code",
      "source": [
        "# Import Libraries\n",
        "import pandas as pd\n",
        "import numpy as np\n",
        "import matplotlib.pyplot as plt\n",
        "import seaborn as sns\n",
        "import datetime as dt\n",
        "%matplotlib inline\n",
        "from sklearn.preprocessing import StandardScaler\n",
        "pd.set_option('display.max_columns', 500)\n",
        "# To ignore the warnings\n",
        "import warnings\n",
        "warnings.filterwarnings('ignore')"
      ],
      "metadata": {
        "id": "M8Vqi-pPk-HR"
      },
      "execution_count": null,
      "outputs": []
    },
    {
      "cell_type": "markdown",
      "source": [
        "### Dataset Loading"
      ],
      "metadata": {
        "id": "3RnN4peoiCZX"
      }
    },
    {
      "cell_type": "code",
      "source": [
        "# Load Dataset\n",
        "from google.colab import drive\n",
        "drive.mount('/content/drive')"
      ],
      "metadata": {
        "id": "4CkvbW_SlZ_R"
      },
      "execution_count": null,
      "outputs": []
    },
    {
      "cell_type": "markdown",
      "source": [
        "### Dataset First View"
      ],
      "metadata": {
        "id": "x71ZqKXriCWQ"
      }
    },
    {
      "cell_type": "code",
      "source": [
        "# Dataset First Look - Reading and viewing the csv file\n",
        "hotel_df = pd.read_csv('/content/drive/MyDrive/Hotel Booking Analysis EDA/Hotel Bookings.csv')"
      ],
      "metadata": {
        "id": "LWNFOSvLl09H"
      },
      "execution_count": null,
      "outputs": []
    },
    {
      "cell_type": "code",
      "source": [
        "# First 5 rows of the dataset\n",
        "hotel_df.head()"
      ],
      "metadata": {
        "id": "cy3zIX645Hgg"
      },
      "execution_count": null,
      "outputs": []
    },
    {
      "cell_type": "code",
      "source": [
        "# Last 5 rows of the dataset\n",
        "hotel_df.tail()"
      ],
      "metadata": {
        "id": "dMjA1ZEl5RyK"
      },
      "execution_count": null,
      "outputs": []
    },
    {
      "cell_type": "markdown",
      "source": [
        "### Dataset Rows & Columns count"
      ],
      "metadata": {
        "id": "7hBIi_osiCS2"
      }
    },
    {
      "cell_type": "code",
      "source": [
        "# Dataset Rows & Columns count\n",
        "row,column = hotel_df.shape\n",
        "print(\"Total number of rows in dataset :\",row)\n",
        "print(\"Total number of columns in dataset :\",column)\n"
      ],
      "metadata": {
        "id": "Kllu7SJgmLij"
      },
      "execution_count": null,
      "outputs": []
    },
    {
      "cell_type": "markdown",
      "source": [
        "### Dataset Information"
      ],
      "metadata": {
        "id": "JlHwYmJAmNHm"
      }
    },
    {
      "cell_type": "code",
      "source": [
        "# Dataset Info - To get a concise summary of the dataframe\n",
        "hotel_df.info()"
      ],
      "metadata": {
        "id": "u5Zu6WA2bkVV"
      },
      "execution_count": null,
      "outputs": []
    },
    {
      "cell_type": "markdown",
      "source": [
        "#### Duplicate Values"
      ],
      "metadata": {
        "id": "35m5QtbWiB9F"
      }
    },
    {
      "cell_type": "code",
      "source": [
        "# Dataset Duplicate Value Count\n",
        "hotel_df.duplicated().value_counts()"
      ],
      "metadata": {
        "id": "1sLdpKYkmox0"
      },
      "execution_count": null,
      "outputs": []
    },
    {
      "cell_type": "code",
      "source": [
        "# Dropping Duplicate values\n",
        "hotel_df.drop_duplicates(inplace = True)"
      ],
      "metadata": {
        "id": "VFLhNLTXYt3e"
      },
      "execution_count": null,
      "outputs": []
    },
    {
      "cell_type": "code",
      "source": [
        "# Dataset shape after removing the duplicates\n",
        "hotel_df.shape"
      ],
      "metadata": {
        "id": "Wr06o7rMYx0y"
      },
      "execution_count": null,
      "outputs": []
    },
    {
      "cell_type": "code",
      "source": [
        "# Resetting the index of the dataframe after duplicate removal\n",
        "hotel_df.reset_index(drop=True,inplace=True)"
      ],
      "metadata": {
        "id": "fTXzbkeSI35O"
      },
      "execution_count": null,
      "outputs": []
    },
    {
      "cell_type": "markdown",
      "source": [
        "#### Missing Values/Null Values"
      ],
      "metadata": {
        "id": "PoPl-ycgm1ru"
      }
    },
    {
      "cell_type": "code",
      "source": [
        "# Defining the function \"dataframe_info\"\n",
        "def dataframe_info(df):\n",
        "  '''\n",
        "  Returns a dataframe displaying the column datatypes,\n",
        "  count of unique values and count & percent of missing values in each column of the dataframe\n",
        "  '''\n",
        "  info_df=df.isnull().sum().sort_values(ascending = False).reset_index()\n",
        "  info_df.rename(columns={'index':'Column Name',0:'NaN Count'},inplace=True)\n",
        "  info_df['% of  NaN']=round((info_df['NaN Count']/len(df))*100,2)\n",
        "  info_df['Data Type']=df.dtypes.values\n",
        "  info_df['Unique Count']=df.nunique(axis=0).values\n",
        "  return(info_df)"
      ],
      "metadata": {
        "id": "5m4i6KuiFUFW"
      },
      "execution_count": null,
      "outputs": []
    },
    {
      "cell_type": "code",
      "source": [
        "# Calling the function \"dataframe_info\" with hotel_df as the input parameter\n",
        "dataframe_info(hotel_df)"
      ],
      "metadata": {
        "id": "DdA8f3tbFXl3"
      },
      "execution_count": null,
      "outputs": []
    },
    {
      "cell_type": "markdown",
      "source": [
        "We can see that we have 4 columns (company, agent, country, children) with missing values. The columns “agent” and “company” have a high percentage of missing values whereas the columns “children” and “country” have a low percentage of missing values."
      ],
      "metadata": {
        "id": "RyZu3r4mGx5w"
      }
    },
    {
      "cell_type": "code",
      "source": [
        "# Replacing null values in \"agent\" and \"company\" columns with 0\n",
        "hotel_df[['company', 'agent']] = hotel_df[['company', 'agent']].fillna(0)"
      ],
      "metadata": {
        "id": "GVPCbg6GJjGo"
      },
      "execution_count": null,
      "outputs": []
    },
    {
      "cell_type": "code",
      "source": [
        "# Replacing null values in \"children\" column with mode value\n",
        "hotel_df['children'].fillna(hotel_df['children'].mode()[0], inplace = True)"
      ],
      "metadata": {
        "id": "lbJSIT4JLwvC"
      },
      "execution_count": null,
      "outputs": []
    },
    {
      "cell_type": "code",
      "source": [
        "# Replacing missing values in \"country\" column with \"others\"\n",
        "hotel_df['country'].fillna('others',inplace = True)"
      ],
      "metadata": {
        "id": "0DuivOmTMVCL"
      },
      "execution_count": null,
      "outputs": []
    },
    {
      "cell_type": "markdown",
      "source": [
        "Let's check again the missing values."
      ],
      "metadata": {
        "id": "0_zShM8BW95Q"
      }
    },
    {
      "cell_type": "code",
      "source": [
        "# Re-check if the hotel dataframe has any null values to ensure that all modifications are in place\n",
        "hotel_df.isnull().sum()"
      ],
      "metadata": {
        "id": "kfPKTX1XXLMM"
      },
      "execution_count": null,
      "outputs": []
    },
    {
      "cell_type": "markdown",
      "source": [
        "Perfect! now we don’t have any missing value."
      ],
      "metadata": {
        "id": "wFIlgnKpW61T"
      }
    },
    {
      "cell_type": "code",
      "source": [
        "# Getting the number of rows where sum of \"adults\",\"children\" and \"babies\" columns is zero\n",
        "hotel_df[hotel_df['adults'] + hotel_df['children'] + hotel_df['babies'] == 0].shape"
      ],
      "metadata": {
        "id": "8wE9N8ZUXHJl"
      },
      "execution_count": null,
      "outputs": []
    },
    {
      "cell_type": "code",
      "source": [
        "# Dropping the rows where sum of \"adults\",\"children\" and \"babies\" columns is zero\n",
        "hotel_df.drop(hotel_df[hotel_df['adults'] + hotel_df['children'] + hotel_df['babies'] == 0].index, inplace = True)"
      ],
      "metadata": {
        "id": "A557KI_ttFFf"
      },
      "execution_count": null,
      "outputs": []
    },
    {
      "cell_type": "markdown",
      "source": [
        "### What did you know about your dataset?"
      ],
      "metadata": {
        "id": "H0kj-8xxnORC"
      }
    },
    {
      "cell_type": "markdown",
      "source": [
        "Answer Here"
      ],
      "metadata": {
        "id": "gfoNAAC-nUe_"
      }
    },
    {
      "cell_type": "markdown",
      "source": [
        "## ***2. Understanding Your Variables***"
      ],
      "metadata": {
        "id": "nA9Y7ga8ng1Z"
      }
    },
    {
      "cell_type": "code",
      "source": [
        "# Dataset Columns\n",
        "hotel_df.columns"
      ],
      "metadata": {
        "id": "j7xfkqrt5Ag5"
      },
      "execution_count": null,
      "outputs": []
    },
    {
      "cell_type": "code",
      "source": [
        "# Dataset Describe - To get some basic statistical details of the numerical columns\n",
        "hotel_df.describe()"
      ],
      "metadata": {
        "id": "DnOaZdaE5Q5t"
      },
      "execution_count": null,
      "outputs": []
    },
    {
      "cell_type": "markdown",
      "source": [
        "### Variables Description"
      ],
      "metadata": {
        "id": "PBTbrJXOngz2"
      }
    },
    {
      "cell_type": "markdown",
      "source": [
        "**The columns and the data it represents are listed below :**\n",
        "\n",
        "1.   **hotel** : Type of hotel (City Hotel or Resort Hotel)\n",
        "\n",
        "2.   **is_canceled** : (1) for cancelled, (0) for not cancelled\n",
        "\n",
        "3.   **lead_time** : Number of days between a guest confirming a reservation at the hotel, and their arrival date.\n",
        "\n",
        "4.   **arrival_date_year** : Year of arrival date (2015, 2016, 2017)\n",
        "\n",
        "5.   **arrival_date_month** : Month of arrival date (January to December)\n",
        "\n",
        "6.   **arrival_date_week_number** : Week number of arrival date (1 - 53)\n",
        "\n",
        "7.   **arrival_date_day_of_month** : Day of arrival date (1 - 31)\n",
        "\n",
        "8.   **stays_in_weekend_nights** : Number of weekend nights spent at the hotel by the guests\n",
        "\n",
        "9.   **stays_in_week_nights** : Number of week nights spent at the hotel by the guests\n",
        "\n",
        "10.  **adults** : Number of adults among the guests\n",
        "\n",
        "11.  **children** : Number of children among the guests\n",
        "\n",
        "12.  **babies** : Number of babies among the guests\n",
        "\n",
        "13.  **meal** : Type of meal booked by the guests. (**BB** - Bread & Breakfast, **FB** - Full Board(breakfast, lunch & dinner), **HB** - Half Board, (breakfast and one other meal — usually dinner), **SC** - Self Catering (no meal package).\n",
        "\n",
        "14.  **country** : Origin country of guests\n",
        "\n",
        "15.  **market_segment** : Designation of the market segment.(Direct, Corporate, Online TA, Offline TA/TO, Complementary, Groups, Aviation)\n",
        "\n",
        "16.  **distribution_channel** : Name of booking distribution channel.(Direct, Corporate, TA/TO , GDS)\n",
        "\n",
        "17.  **is_repeated_guest** : (1) if the booking is from a repeated guest else (0)\n",
        "\n",
        "18.  **previous_cancellations** : Number of previous bookings that were cancelled by the customer prior to the current booking\n",
        "\n",
        "19.  **previous_bookings_not_canceled** : Number of previous bookings that were not cancelled by the customer prior to the current booking\n",
        "\n",
        "20.  **reserved_room_type** : Code of room type reserved\n",
        "\n",
        "21.  **assigned_room_type** : Code of room type assigned. Sometimes the assigned room type differs from the reserved room type due to hotel operation reasons (e.g. overbooking) or by customer request.\n",
        "\n",
        "22.  **booking_changes** : Number of changes/amendments made to the booking from the moment the booking was entered on the system until the moment of check-in or cancellation.\n",
        "\n",
        "23. **deposit_type** : Indication on if the customer made a deposit to guarantee the booking. This variable can assume three categories:No Deposit — no deposit was made;\n",
        "Non Refund — a deposit was made in the value of the total stay cost; Refundable — a deposit was made with a value under the total cost of stay.\n",
        "\n",
        "24. **agent** : ID of travel agent who made the booking.\n",
        "\n",
        "25. **company** : ID of the company that made the booking.\n",
        "\n",
        "26. **days_in_waiting_list** : Number of days the booking was in the waiting list.\n",
        "\n",
        "27. **customer_type** : This variable shows 4 categories of guests, namely - *Contract* - when the booking has an allotment or other type of contract associated to it; *Group* – when the booking is associated to a group; *Transient* – when the booking is not part of a group or contract, and is not associated to other transient booking; *Transient-party* – when the booking is transient, but is associated to at least other transient booking.\n",
        "\n",
        "28. **adr** : This variable shows the Average Daily Rate as defined by dividing the sum of all lodging transactions by the total number of staying nights.\n",
        "\n",
        "29. **required_car_parking_spaces** : Number of car parking spaces required by the customer.\n",
        "\n",
        "30. **total_of_special_requests** : Number of special requests made by the customer (e.g. twin bed, high floor).\n",
        "\n",
        "31. **reservation_status** : Reservation status of the customer. (Check-Out, Canceled, No-Show)\n",
        "\n",
        "32. **reservation_status_date** : Date on which the reservation status got last updated\n",
        "\n",
        "\n"
      ],
      "metadata": {
        "id": "aJV4KIxSnxay"
      }
    },
    {
      "cell_type": "markdown",
      "source": [
        "### Check Unique Values for each variable."
      ],
      "metadata": {
        "id": "u3PMJOP6ngxN"
      }
    },
    {
      "cell_type": "code",
      "source": [
        "# Check Unique Values for each variable.\n",
        "for col in hotel_df.columns:\n",
        "  if hotel_df[col].nunique()<500:\n",
        "    print(f\"The unique values in {col} column are :\")\n",
        "    print(hotel_df[col].unique())\n",
        "    print('\\n')"
      ],
      "metadata": {
        "id": "zms12Yq5n-jE"
      },
      "execution_count": null,
      "outputs": []
    },
    {
      "cell_type": "markdown",
      "source": [
        "### **Outlier treatment**"
      ],
      "metadata": {
        "id": "5UQtpLTnXnFr"
      }
    },
    {
      "cell_type": "code",
      "source": [
        "# Creating a boxplot for Outlier detection\n",
        "columns = ['lead_time', 'stays_in_weekend_nights', 'stays_in_week_nights', 'adults', 'children', 'babies', 'required_car_parking_spaces', 'adr', 'previous_cancellations', 'previous_bookings_not_canceled', 'booking_changes']\n",
        "n = 1\n",
        "plt.figure(figsize=(20,15))\n",
        "\n",
        "for column in columns:\n",
        "  plt.subplot(4,4,n)\n",
        "  n = n+1\n",
        "  sns.boxplot(hotel_df[column])\n",
        "  plt.title('Checking for outliers in {}'.format(column))\n",
        "  plt.tight_layout()"
      ],
      "metadata": {
        "id": "q0Y6gjYiXFY2"
      },
      "execution_count": null,
      "outputs": []
    },
    {
      "cell_type": "markdown",
      "source": [
        "The dataset contains outliers. Now let's remove the outliers by using conditionals to get and update these values."
      ],
      "metadata": {
        "id": "wFwDH_60X9I9"
      }
    },
    {
      "cell_type": "code",
      "source": [
        "hotel_df.loc[hotel_df.lead_time > 500, 'lead_time'] = 500\n",
        "hotel_df.loc[hotel_df.stays_in_weekend_nights >=  5, 'stays_in_weekend_nights'] = 5\n",
        "hotel_df.loc[hotel_df.adults > 4, 'adults'] = 4\n",
        "hotel_df.loc[hotel_df.previous_bookings_not_canceled > 0, 'previous_bookings_not_canceled'] = 1\n",
        "hotel_df.loc[hotel_df.previous_cancellations > 0, 'previous_cancellations'] = 1\n",
        "hotel_df.loc[hotel_df.stays_in_week_nights > 10, 'stays_in_week_nights'] = 10\n",
        "hotel_df.loc[hotel_df.booking_changes > 5, 'booking_changes'] = 5\n",
        "hotel_df.loc[hotel_df.babies > 8, 'babies'] = 0\n",
        "hotel_df.loc[hotel_df.required_car_parking_spaces > 5, 'required_car_parking_spaces'] = 0\n",
        "hotel_df.loc[hotel_df.children > 8, 'children'] = 0\n",
        "hotel_df.loc[hotel_df.adr > 1000, 'adr'] = 1000"
      ],
      "metadata": {
        "id": "3uPJ1b9-YPQX"
      },
      "execution_count": null,
      "outputs": []
    },
    {
      "cell_type": "code",
      "source": [
        "hotel_df.describe()"
      ],
      "metadata": {
        "id": "n2xT_nzyRjoX"
      },
      "execution_count": null,
      "outputs": []
    },
    {
      "cell_type": "markdown",
      "source": [
        "We removed the outliers. Our data is clean now."
      ],
      "metadata": {
        "id": "RORvE7sFbddR"
      }
    },
    {
      "cell_type": "markdown",
      "source": [
        "## 3. ***Data Wrangling***"
      ],
      "metadata": {
        "id": "dauF4eBmngu3"
      }
    },
    {
      "cell_type": "markdown",
      "source": [
        "### Data Wrangling Code"
      ],
      "metadata": {
        "id": "bKJF3rekwFvQ"
      }
    },
    {
      "cell_type": "code",
      "source": [
        "# Correcting the datatype of \"agent\", \"children\" and \"company\" columns\n",
        "hotel_df[['children', 'company', 'agent']] = hotel_df[['children', 'company', 'agent']].astype('int64')"
      ],
      "metadata": {
        "id": "H8JgjBUmvIJr"
      },
      "execution_count": null,
      "outputs": []
    },
    {
      "cell_type": "code",
      "source": [
        "# Adding \"stays_in_weekend_nights\" & \"stays_in_week_nights\" to get total stay duration\n",
        "hotel_df['total_stay'] = hotel_df['stays_in_weekend_nights'] + hotel_df['stays_in_week_nights']"
      ],
      "metadata": {
        "id": "Z1_hHfc3vuXu"
      },
      "execution_count": null,
      "outputs": []
    },
    {
      "cell_type": "code",
      "source": [
        "# Adding \"children\" and \"babies\" columns into \"kids\" column\n",
        "hotel_df['kids'] = hotel_df.children + hotel_df.babies"
      ],
      "metadata": {
        "id": "loJ0rMrSb6mW"
      },
      "execution_count": null,
      "outputs": []
    },
    {
      "cell_type": "code",
      "source": [
        "# Adding \"adults\" and \"kids\" columns into \"total_people\" column\n",
        "hotel_df['total_people'] = hotel_df['adults'] + hotel_df['kids']"
      ],
      "metadata": {
        "id": "US15p5JnwHbF"
      },
      "execution_count": null,
      "outputs": []
    },
    {
      "cell_type": "code",
      "source": [
        "# Convert the datatypes to string\n",
        "hotel_df['arrival_date_year'] = hotel_df['arrival_date_year'].astype('str')\n",
        "hotel_df['arrival_date_month'] = hotel_df['arrival_date_month'].astype('str')\n",
        "hotel_df['arrival_date_day_of_month'] = hotel_df['arrival_date_day_of_month'].astype('str')\n",
        "hotel_df['is_canceled'] = hotel_df['is_canceled'].astype('str')\n",
        "hotel_df['is_repeated_guest'] = hotel_df['is_repeated_guest'].astype('str')"
      ],
      "metadata": {
        "id": "fpkV9C_xcldl"
      },
      "execution_count": null,
      "outputs": []
    },
    {
      "cell_type": "code",
      "source": [
        "# Converting arrival date to datetime\n",
        "hotel_df['arrival_date'] = hotel_df['arrival_date_day_of_month'] + '-' + hotel_df['arrival_date_month'] + '-' + hotel_df['arrival_date_year']\n",
        "hotel_df['arrival_date'] = pd.to_datetime(hotel_df['arrival_date'], errors='coerce')"
      ],
      "metadata": {
        "id": "r0cTw4cacyC0"
      },
      "execution_count": null,
      "outputs": []
    },
    {
      "cell_type": "code",
      "source": [
        "# To identify which type of hotel has highest booking cancellation percentage and highest booking percentage.\n",
        "cancel = hotel_df[hotel_df['is_canceled'] == \"1\"]\n",
        "cancel_grp = cancel.groupby('hotel')\n",
        "df1 = pd.DataFrame(cancel_grp.size()).rename(columns = {0:'total_cancelled_bookings'})\n",
        "grouped_by_hotel = hotel_df.groupby('hotel')\n",
        "df2 = pd.DataFrame(grouped_by_hotel.size()).rename(columns = {0: 'total_bookings'})\n",
        "df3 = pd.concat([df1,df2], axis = 1)\n",
        "df3['cancel_%'] = round((df3['total_cancelled_bookings'] / df3['total_bookings']) * 100,2)\n",
        "df3['book_%'] = round((df3['total_bookings'] / hotel_df['hotel'].count()) * 100,2)\n",
        "df3"
      ],
      "metadata": {
        "id": "tNSjtN0N184G"
      },
      "execution_count": null,
      "outputs": []
    },
    {
      "cell_type": "markdown",
      "source": [
        "\n",
        "\n",
        "*   There are two types of hotel in the dataset - City Hotel and Resort Hotel. City Hotel is most preferred over Resort Hotel.\n",
        "*   The booking cancellation percentage in City Hotel is 30.10% whereas in Resort Hotel is 23.48%.\n",
        "*   The booking percentage in City Hotel is 61.07% whereas in Resort Hotel is 38.93%.\n",
        "\n"
      ],
      "metadata": {
        "id": "0Jex4sDO4PMO"
      }
    },
    {
      "cell_type": "code",
      "source": [
        "# To identify the number of confirmed bookings in each month\n",
        "confirmed_bookings = hotel_df[hotel_df['is_canceled']=='0']\n",
        "confirmed_bookings['arrival_date_month'] = hotel_df['arrival_date'].dt.month\n",
        "final=confirmed_bookings['arrival_date_month'].value_counts().sort_index()\n",
        "final"
      ],
      "metadata": {
        "id": "7F9X0wGQdJyp"
      },
      "execution_count": null,
      "outputs": []
    },
    {
      "cell_type": "markdown",
      "source": [
        "The confirmed bookings goes from their lower value (3648) in January to their highest value (7620) in August."
      ],
      "metadata": {
        "id": "pHF1kVCZdnFA"
      }
    },
    {
      "cell_type": "code",
      "source": [
        "# To understand the total bookings that were cancelled and the cancellation percentage\n",
        "print('Total Bookings cancelled')\n",
        "print(hotel_df.is_canceled.value_counts())\n",
        "print('Cancellation percentage')\n",
        "print(hotel_df.is_canceled.value_counts(normalize=True))"
      ],
      "metadata": {
        "id": "3UCc7QMq7EGF"
      },
      "execution_count": null,
      "outputs": []
    },
    {
      "cell_type": "markdown",
      "source": [
        "24009 bookings(around 27%) were cancelled."
      ],
      "metadata": {
        "id": "h8I47LB47QHh"
      }
    },
    {
      "cell_type": "code",
      "source": [
        "# To identify most common customer type\n",
        "hotel_df.customer_type.value_counts(normalize = True) * 100"
      ],
      "metadata": {
        "id": "C0uxw_rBwiFX"
      },
      "execution_count": null,
      "outputs": []
    },
    {
      "cell_type": "markdown",
      "source": [
        "The most common Customer Type is \"Transient\" followed by \"Transient-Party\", \"Contract\" and \"Group\"."
      ],
      "metadata": {
        "id": "CCXQ2gLXv559"
      }
    },
    {
      "cell_type": "code",
      "source": [
        "# To identify most common market segment\n",
        "hotel_df.market_segment.value_counts(normalize = True) * 100"
      ],
      "metadata": {
        "id": "Hh-UM3igA1VN"
      },
      "execution_count": null,
      "outputs": []
    },
    {
      "cell_type": "markdown",
      "source": [
        "\n",
        "*   Around 59.10% of bookings are made via Online Travel Agents.\n",
        "*   Around 15.88% of bookings are made via Offline Travel Agents/Tour Operators."
      ],
      "metadata": {
        "id": "p-k1sijiBDSA"
      }
    },
    {
      "cell_type": "code",
      "source": [
        "# To identify the most occupied month.\n",
        "hotel_df.arrival_date_month.value_counts(normalize = True)*100"
      ],
      "metadata": {
        "id": "58QBMuU3xndT"
      },
      "execution_count": null,
      "outputs": []
    },
    {
      "cell_type": "markdown",
      "source": [
        "August is the most occupied (busiest) month with 12.88% bookings and January is the most unoccupied month with 5.37% bookings."
      ],
      "metadata": {
        "id": "IpQlb6Pw0N7G"
      }
    },
    {
      "cell_type": "code",
      "source": [
        "# To understand the year in which more bookings were made.\n",
        "hotel_df.arrival_date_year.value_counts(normalize = True)*100"
      ],
      "metadata": {
        "id": "eiiWRPAZB5Ae"
      },
      "execution_count": null,
      "outputs": []
    },
    {
      "cell_type": "markdown",
      "source": [
        "48.50% bookings were done in 2016, 36.26% bookings in 2017 and 15.22% bookings in 2015. We can see an increasing tendency in bookings after each year."
      ],
      "metadata": {
        "id": "_33lhcVmCPNz"
      }
    },
    {
      "cell_type": "code",
      "source": [
        "# To identify the country from where most percentage of bookings were made\n",
        "hotel_df.country.value_counts(normalize = True)*100"
      ],
      "metadata": {
        "id": "05R-HxxNhS3G"
      },
      "execution_count": null,
      "outputs": []
    },
    {
      "cell_type": "markdown",
      "source": [
        "Around 31% of all bookings were from Portugal followed by Great Britain(11%) & France(10%)."
      ],
      "metadata": {
        "id": "q84yI2BJhhH8"
      }
    },
    {
      "cell_type": "code",
      "source": [
        "# To identify the most preferred meal type of customers.\n",
        "preferred_meal_type = hotel_df['meal'].value_counts().sort_values(ascending = False)\n",
        "preferred_meal_type"
      ],
      "metadata": {
        "id": "QdvpakkBz76B"
      },
      "execution_count": null,
      "outputs": []
    },
    {
      "cell_type": "markdown",
      "source": [
        "Bed & Breakfast(BB) is the most preferred meal type of the customers, followed by SC(no meal package), HB(Half Board), Undefined and FB(Full Board)."
      ],
      "metadata": {
        "id": "tvS6QrDq080m"
      }
    },
    {
      "cell_type": "code",
      "source": [
        "# To know average ADR for each hotel.\n",
        "avg_adr = grouped_by_hotel['adr'].agg(np.mean).reset_index().rename(columns = {'adr':'avg_adr'})\n",
        "avg_adr"
      ],
      "metadata": {
        "id": "LwIjR3Ca0HvB"
      },
      "execution_count": null,
      "outputs": []
    },
    {
      "cell_type": "markdown",
      "source": [
        "### What all manipulations have you done and insights you found?"
      ],
      "metadata": {
        "id": "MSa1f5Uengrz"
      }
    },
    {
      "cell_type": "markdown",
      "source": [
        "Answer Here."
      ],
      "metadata": {
        "id": "LbyXE7I1olp8"
      }
    },
    {
      "cell_type": "markdown",
      "source": [
        "## ***4. Data Vizualization, Storytelling & Experimenting with charts : Understand the relationships between variables***"
      ],
      "metadata": {
        "id": "GF8Ens_Soomf"
      }
    },
    {
      "cell_type": "markdown",
      "source": [
        "#### Chart - 1"
      ],
      "metadata": {
        "id": "0wOQAZs5pc--"
      }
    },
    {
      "cell_type": "code",
      "source": [
        "# Chart - 1 visualization code\n",
        "plt.figure(figsize=(12,6))\n",
        "sns.barplot(x='arrival_date_year', y='lead_time',hue='is_canceled', data= hotel_df, palette='vlag')\n",
        "plt.title('Arriving year, Leadtime and Cancellations')"
      ],
      "metadata": {
        "id": "7v_ESjsspbW7"
      },
      "execution_count": null,
      "outputs": []
    },
    {
      "cell_type": "markdown",
      "source": [
        "##### 1. Why did you pick the specific chart?"
      ],
      "metadata": {
        "id": "K5QZ13OEpz2H"
      }
    },
    {
      "cell_type": "markdown",
      "source": [
        "Answer Here."
      ],
      "metadata": {
        "id": "XESiWehPqBRc"
      }
    },
    {
      "cell_type": "markdown",
      "source": [
        "##### 2. What is/are the insight(s) found from the chart?"
      ],
      "metadata": {
        "id": "lQ7QKXXCp7Bj"
      }
    },
    {
      "cell_type": "markdown",
      "source": [
        "For all the 3 years(2015-17), bookings with a lead time less than 100 days have fewer chances of getting cancelled, and bookings with lead time more than 100 days have more chances of getting cancelled."
      ],
      "metadata": {
        "id": "C_j1G7yiqdRP"
      }
    },
    {
      "cell_type": "markdown",
      "source": [
        "##### 3. Will the gained insights help creating a positive business impact?\n",
        "Are there any insights that lead to negative growth? Justify with specific reason."
      ],
      "metadata": {
        "id": "448CDAPjqfQr"
      }
    },
    {
      "cell_type": "markdown",
      "source": [
        "Answer Here"
      ],
      "metadata": {
        "id": "3cspy4FjqxJW"
      }
    },
    {
      "cell_type": "markdown",
      "source": [
        "#### Chart - 2"
      ],
      "metadata": {
        "id": "KSlN3yHqYklG"
      }
    },
    {
      "cell_type": "code",
      "source": [
        "# Chart - 2 visualization code\n",
        "sns.countplot(x ='is_canceled', data = hotel_df, palette ='husl')\n",
        "plt.show()\n",
        "cols = ['lightcoral', 'lightgreen']\n",
        "hotel_df['is_canceled'].value_counts().plot.pie(autopct='%1.1f%%',shadow=True, colors=cols)"
      ],
      "metadata": {
        "id": "R4YgtaqtYklH"
      },
      "execution_count": null,
      "outputs": []
    },
    {
      "cell_type": "markdown",
      "source": [
        "##### 1. Why did you pick the specific chart?"
      ],
      "metadata": {
        "id": "t6dVpIINYklI"
      }
    },
    {
      "cell_type": "markdown",
      "source": [
        "Answer Here."
      ],
      "metadata": {
        "id": "5aaW0BYyYklI"
      }
    },
    {
      "cell_type": "markdown",
      "source": [
        "##### 2. What is/are the insight(s) found from the chart?"
      ],
      "metadata": {
        "id": "ijmpgYnKYklI"
      }
    },
    {
      "cell_type": "markdown",
      "source": [
        "Majority of bookings were not cancelled, still some half of the bookings were cancelled."
      ],
      "metadata": {
        "id": "PSx9atu2YklI"
      }
    },
    {
      "cell_type": "markdown",
      "source": [
        "##### 3. Will the gained insights help creating a positive business impact?\n",
        "Are there any insights that lead to negative growth? Justify with specific reason."
      ],
      "metadata": {
        "id": "-JiQyfWJYklI"
      }
    },
    {
      "cell_type": "markdown",
      "source": [
        "Answer Here"
      ],
      "metadata": {
        "id": "BcBbebzrYklV"
      }
    },
    {
      "cell_type": "markdown",
      "source": [
        "#### Chart - 3"
      ],
      "metadata": {
        "id": "EM7whBJCYoAo"
      }
    },
    {
      "cell_type": "code",
      "source": [
        "# Chart - 3 visualization code\n",
        "plt.figure(figsize=(12, 6))\n",
        "sns.countplot(x='hotel',hue=\"is_canceled\", data=hotel_df,palette='Pastel1')\n",
        "plt.title(\"Cancellation rates in City hotel and Resort hotel\",fontweight=\"bold\", size=20)\n",
        "plt.show()"
      ],
      "metadata": {
        "id": "t6GMdE67YoAp"
      },
      "execution_count": null,
      "outputs": []
    },
    {
      "cell_type": "markdown",
      "source": [
        "##### 1. Why did you pick the specific chart?"
      ],
      "metadata": {
        "id": "fge-S5ZAYoAp"
      }
    },
    {
      "cell_type": "markdown",
      "source": [
        "Answer Here."
      ],
      "metadata": {
        "id": "5dBItgRVYoAp"
      }
    },
    {
      "cell_type": "markdown",
      "source": [
        "##### 2. What is/are the insight(s) found from the chart?"
      ],
      "metadata": {
        "id": "85gYPyotYoAp"
      }
    },
    {
      "cell_type": "markdown",
      "source": [
        "* Most bookings were in City Hotel.\n",
        "* Cancellations in Resort hotel is less compared to City Hotel."
      ],
      "metadata": {
        "id": "4jstXR6OYoAp"
      }
    },
    {
      "cell_type": "markdown",
      "source": [
        "##### 3. Will the gained insights help creating a positive business impact?\n",
        "Are there any insights that lead to negative growth? Justify with specific reason."
      ],
      "metadata": {
        "id": "RoGjAbkUYoAp"
      }
    },
    {
      "cell_type": "markdown",
      "source": [
        "Answer Here"
      ],
      "metadata": {
        "id": "zfJ8IqMcYoAp"
      }
    },
    {
      "cell_type": "markdown",
      "source": [
        "#### Chart - 4"
      ],
      "metadata": {
        "id": "4Of9eVA-YrdM"
      }
    },
    {
      "cell_type": "code",
      "source": [
        "# Chart - 4 visualization code\n",
        "plt.figure(figsize=(15, 8))\n",
        "plt.subplot(1, 2, 1)\n",
        "sns.countplot(x='arrival_date_year',hue='hotel', data=hotel_df,palette='husl')\n",
        "plt.title(\"Arrivals per year in Both hotels \",fontweight=\"bold\", size=20)\n",
        "plt.subplot(1, 2, 2)\n",
        "sns.countplot(data = hotel_df, x = 'arrival_date_month')\n",
        "plt.title('Arrivals per month',fontweight=\"bold\", size=20)\n",
        "plt.subplots_adjust(right=1.7)\n",
        "plt.show()"
      ],
      "metadata": {
        "id": "irlUoxc8YrdO"
      },
      "execution_count": null,
      "outputs": []
    },
    {
      "cell_type": "markdown",
      "source": [
        "##### 1. Why did you pick the specific chart?"
      ],
      "metadata": {
        "id": "iky9q4vBYrdO"
      }
    },
    {
      "cell_type": "markdown",
      "source": [
        "Answer Here."
      ],
      "metadata": {
        "id": "aJRCwT6DYrdO"
      }
    },
    {
      "cell_type": "markdown",
      "source": [
        "##### 2. What is/are the insight(s) found from the chart?"
      ],
      "metadata": {
        "id": "F6T5p64dYrdO"
      }
    },
    {
      "cell_type": "markdown",
      "source": [
        "*We can see most of the bookings were in the year 2016 and bookings were done in City hotel.\n",
        "*Most bookings were done in the month of May,June, July, August"
      ],
      "metadata": {
        "id": "Xx8WAJvtYrdO"
      }
    },
    {
      "cell_type": "markdown",
      "source": [
        "##### 3. Will the gained insights help creating a positive business impact?\n",
        "Are there any insights that lead to negative growth? Justify with specific reason."
      ],
      "metadata": {
        "id": "y-Ehk30pYrdP"
      }
    },
    {
      "cell_type": "markdown",
      "source": [
        "Answer Here"
      ],
      "metadata": {
        "id": "jLNxxz7MYrdP"
      }
    },
    {
      "cell_type": "markdown",
      "source": [
        "#### Chart - 5"
      ],
      "metadata": {
        "id": "bamQiAODYuh1"
      }
    },
    {
      "cell_type": "code",
      "source": [
        "# Chart - 5 visualization code\n",
        "# Enlarging the pie chart\n",
        "plt.rcParams['figure.figsize'] = 8,8\n",
        "\n",
        "# Indexing labels. tolist() will convert the index to list for easy manipulation\n",
        "labels = hotel_df['hotel'].value_counts().index.tolist()\n",
        "\n",
        "# Convert value counts to list\n",
        "sizes = hotel_df['hotel'].value_counts().tolist()\n",
        "\n",
        "# As the name suggest, explode will determine how much each section is separated from each other\n",
        "explode = (0, 0.1)\n",
        "\n",
        "# Determine colour of pie chart\n",
        "colors = ['yellowgreen', 'lightcoral']\n",
        "\n",
        "plt.pie(sizes, explode=explode, labels=labels, colors=colors, autopct='%1.1f%%',startangle=90, textprops={'fontsize': 14})\n",
        "plt.show()\n",
        "\n",
        "# We can see that the percent of City hotel is more compared to Resort hotel.\n",
        "# Resort Hotel tend to be on the expensive side and most people will just stick with city hotel."
      ],
      "metadata": {
        "id": "TIJwrbroYuh3"
      },
      "execution_count": null,
      "outputs": []
    },
    {
      "cell_type": "markdown",
      "source": [
        "##### 1. Why did you pick the specific chart?"
      ],
      "metadata": {
        "id": "QHF8YVU7Yuh3"
      }
    },
    {
      "cell_type": "markdown",
      "source": [
        "Answer Here."
      ],
      "metadata": {
        "id": "dcxuIMRPYuh3"
      }
    },
    {
      "cell_type": "markdown",
      "source": [
        "##### 2. What is/are the insight(s) found from the chart?"
      ],
      "metadata": {
        "id": "GwzvFGzlYuh3"
      }
    },
    {
      "cell_type": "markdown",
      "source": [
        "Answer Here"
      ],
      "metadata": {
        "id": "uyqkiB8YYuh3"
      }
    },
    {
      "cell_type": "markdown",
      "source": [
        "##### 3. Will the gained insights help creating a positive business impact?\n",
        "Are there any insights that lead to negative growth? Justify with specific reason."
      ],
      "metadata": {
        "id": "qYpmQ266Yuh3"
      }
    },
    {
      "cell_type": "markdown",
      "source": [
        "Answer Here"
      ],
      "metadata": {
        "id": "_WtzZ_hCYuh4"
      }
    },
    {
      "cell_type": "markdown",
      "source": [
        "#### Chart - 6"
      ],
      "metadata": {
        "id": "OH-pJp9IphqM"
      }
    },
    {
      "cell_type": "code",
      "source": [
        "# Chart - 6 visualization code\n",
        "plt.figure(figsize=(15,6))\n",
        "sns.countplot(x = 'arrival_date', hue='hotel', data = hotel_df, palette='Paired')\n",
        "plt.show()"
      ],
      "metadata": {
        "id": "kuRf4wtuphqN"
      },
      "execution_count": null,
      "outputs": []
    },
    {
      "cell_type": "markdown",
      "source": [
        "##### 1. Why did you pick the specific chart?"
      ],
      "metadata": {
        "id": "bbFf2-_FphqN"
      }
    },
    {
      "cell_type": "markdown",
      "source": [
        "Answer Here."
      ],
      "metadata": {
        "id": "loh7H2nzphqN"
      }
    },
    {
      "cell_type": "markdown",
      "source": [
        "##### 2. What is/are the insight(s) found from the chart?"
      ],
      "metadata": {
        "id": "_ouA3fa0phqN"
      }
    },
    {
      "cell_type": "markdown",
      "source": [
        "Answer Here"
      ],
      "metadata": {
        "id": "VECbqPI7phqN"
      }
    },
    {
      "cell_type": "markdown",
      "source": [
        "##### 3. Will the gained insights help creating a positive business impact?\n",
        "Are there any insights that lead to negative growth? Justify with specific reason."
      ],
      "metadata": {
        "id": "Seke61FWphqN"
      }
    },
    {
      "cell_type": "markdown",
      "source": [
        "Answer Here"
      ],
      "metadata": {
        "id": "DW4_bGpfphqN"
      }
    },
    {
      "cell_type": "markdown",
      "source": [
        "#### Chart - 7"
      ],
      "metadata": {
        "id": "PIIx-8_IphqN"
      }
    },
    {
      "cell_type": "code",
      "source": [
        "# Chart - 7 visualization code\n",
        "plt.figure(figsize=(15, 8))\n",
        "plt.subplot(1, 2, 1)\n",
        "sns.countplot(x='stays_in_weekend_nights',hue='hotel', data=hotel_df, palette='cool')\n",
        "plt.title(\"Number of stays on weekend nights\",fontweight=\"bold\", size=20)\n",
        "plt.subplot(1, 2, 2)\n",
        "sns.countplot(x = 'stays_in_weekend_nights', hue='is_canceled', data = hotel_df, palette='rocket')\n",
        "plt.title('WeekendStay vs Cancelation',fontweight=\"bold\", size=20)\n",
        "plt.subplots_adjust(right=1.7)\n",
        "plt.show()"
      ],
      "metadata": {
        "id": "lqAIGUfyphqO"
      },
      "execution_count": null,
      "outputs": []
    },
    {
      "cell_type": "markdown",
      "source": [
        "##### 1. Why did you pick the specific chart?"
      ],
      "metadata": {
        "id": "t27r6nlMphqO"
      }
    },
    {
      "cell_type": "markdown",
      "source": [
        "Answer Here."
      ],
      "metadata": {
        "id": "iv6ro40sphqO"
      }
    },
    {
      "cell_type": "markdown",
      "source": [
        "##### 2. What is/are the insight(s) found from the chart?"
      ],
      "metadata": {
        "id": "r2jJGEOYphqO"
      }
    },
    {
      "cell_type": "markdown",
      "source": [
        "In the first graph we can see that most of the weekend nights were booked in City Hotel\n",
        "Second plot shows most of weekend nights which were booked were not canceled"
      ],
      "metadata": {
        "id": "Po6ZPi4hphqO"
      }
    },
    {
      "cell_type": "markdown",
      "source": [
        "##### 3. Will the gained insights help creating a positive business impact?\n",
        "Are there any insights that lead to negative growth? Justify with specific reason."
      ],
      "metadata": {
        "id": "b0JNsNcRphqO"
      }
    },
    {
      "cell_type": "markdown",
      "source": [
        "Answer Here"
      ],
      "metadata": {
        "id": "xvSq8iUTphqO"
      }
    },
    {
      "cell_type": "markdown",
      "source": [
        "#### Chart - 8"
      ],
      "metadata": {
        "id": "BZR9WyysphqO"
      }
    },
    {
      "cell_type": "code",
      "source": [
        "# Chart - 8 visualization code\n",
        "plt.figure(figsize=(15, 8))\n",
        "plt.subplot(1, 2, 1)\n",
        "sns.countplot(x='stays_in_week_nights',hue='hotel', data = hotel_df, palette='rainbow_r')\n",
        "plt.title(\"Number of stays on weekday nights\",fontweight=\"bold\", size=20)\n",
        "plt.subplot(1, 2, 2)\n",
        "sns.countplot(x = 'stays_in_week_nights', hue='is_canceled', data = hotel_df, palette='magma_r')\n",
        "plt.title('WeekStay vs Cancelations',fontweight=\"bold\", size=20)\n",
        "plt.subplots_adjust(right=1.7)"
      ],
      "metadata": {
        "id": "TdPTWpAVphqO"
      },
      "execution_count": null,
      "outputs": []
    },
    {
      "cell_type": "markdown",
      "source": [
        "##### 1. Why did you pick the specific chart?"
      ],
      "metadata": {
        "id": "jj7wYXLtphqO"
      }
    },
    {
      "cell_type": "markdown",
      "source": [
        "Answer Here."
      ],
      "metadata": {
        "id": "Ob8u6rCTphqO"
      }
    },
    {
      "cell_type": "markdown",
      "source": [
        "##### 2. What is/are the insight(s) found from the chart?"
      ],
      "metadata": {
        "id": "eZrbJ2SmphqO"
      }
    },
    {
      "cell_type": "markdown",
      "source": [
        "Weekday night stays were more in City Hotel\n",
        "Less cancelations were observed"
      ],
      "metadata": {
        "id": "mZtgC_hjphqO"
      }
    },
    {
      "cell_type": "markdown",
      "source": [
        "##### 3. Will the gained insights help creating a positive business impact?\n",
        "Are there any insights that lead to negative growth? Justify with specific reason."
      ],
      "metadata": {
        "id": "rFu4xreNphqO"
      }
    },
    {
      "cell_type": "markdown",
      "source": [
        "Answer Here"
      ],
      "metadata": {
        "id": "ey_0qi68phqO"
      }
    },
    {
      "cell_type": "markdown",
      "source": [
        "#### Chart - 9"
      ],
      "metadata": {
        "id": "YJ55k-q6phqO"
      }
    },
    {
      "cell_type": "code",
      "source": [
        "# Chart - 9 visualization code\n",
        "plt.figure(figsize=(15, 8))\n",
        "plt.subplot(1, 2, 1)\n",
        "sns.countplot(x='adults',hue='hotel', data=hotel_df, palette='pastel')\n",
        "plt.title(\"Number of adults in both hotels\",fontweight=\"bold\", size=20)\n",
        "plt.subplot(1, 2, 2)\n",
        "sns.countplot(x = 'adults', hue='is_canceled', data = hotel_df, palette='husl')\n",
        "plt.title('Adults vs Cancelations',fontweight=\"bold\", size=20)\n",
        "plt.subplots_adjust(right=1.7)\n",
        "plt.show()"
      ],
      "metadata": {
        "id": "B2aS4O1ophqO"
      },
      "execution_count": null,
      "outputs": []
    },
    {
      "cell_type": "markdown",
      "source": [
        "##### 1. Why did you pick the specific chart?"
      ],
      "metadata": {
        "id": "gCFgpxoyphqP"
      }
    },
    {
      "cell_type": "markdown",
      "source": [
        "Answer Here."
      ],
      "metadata": {
        "id": "TVxDimi2phqP"
      }
    },
    {
      "cell_type": "markdown",
      "source": [
        "##### 2. What is/are the insight(s) found from the chart?"
      ],
      "metadata": {
        "id": "OVtJsKN_phqQ"
      }
    },
    {
      "cell_type": "markdown",
      "source": [
        " Adults who were 2 in number are more and preferred city hotel rather than resort hotel, infact more than half the visitors even canceled the bookings"
      ],
      "metadata": {
        "id": "ngGi97qjphqQ"
      }
    },
    {
      "cell_type": "markdown",
      "source": [
        "##### 3. Will the gained insights help creating a positive business impact?\n",
        "Are there any insights that lead to negative growth? Justify with specific reason."
      ],
      "metadata": {
        "id": "lssrdh5qphqQ"
      }
    },
    {
      "cell_type": "markdown",
      "source": [
        "Answer Here"
      ],
      "metadata": {
        "id": "tBpY5ekJphqQ"
      }
    },
    {
      "cell_type": "markdown",
      "source": [
        "#### Chart - 10"
      ],
      "metadata": {
        "id": "U2RJ9gkRphqQ"
      }
    },
    {
      "cell_type": "code",
      "source": [
        "# Chart - 10 visualization code\n",
        "plt.figure(figsize=(15, 8))\n",
        "plt.subplot(1, 2, 1)\n",
        "sns.countplot(x='children',hue='hotel', data = hotel_df, palette='cool')\n",
        "plt.title(\"Number of Children in both hotels\",fontweight=\"bold\", size=20)\n",
        "plt.subplot(1, 2, 2)\n",
        "sns.countplot(x = 'children', hue='is_canceled', data = hotel_df, palette='Set2')\n",
        "plt.title('Children vs Cancelations',fontweight=\"bold\", size=20)\n",
        "plt.subplots_adjust(right=1.7)"
      ],
      "metadata": {
        "id": "GM7a4YP4phqQ"
      },
      "execution_count": null,
      "outputs": []
    },
    {
      "cell_type": "markdown",
      "source": [
        "##### 1. Why did you pick the specific chart?"
      ],
      "metadata": {
        "id": "1M8mcRywphqQ"
      }
    },
    {
      "cell_type": "markdown",
      "source": [
        "Answer Here."
      ],
      "metadata": {
        "id": "8agQvks0phqQ"
      }
    },
    {
      "cell_type": "markdown",
      "source": [
        "##### 2. What is/are the insight(s) found from the chart?"
      ],
      "metadata": {
        "id": "tgIPom80phqQ"
      }
    },
    {
      "cell_type": "markdown",
      "source": [
        "Answer Here"
      ],
      "metadata": {
        "id": "Qp13pnNzphqQ"
      }
    },
    {
      "cell_type": "markdown",
      "source": [
        "##### 3. Will the gained insights help creating a positive business impact?\n",
        "Are there any insights that lead to negative growth? Justify with specific reason."
      ],
      "metadata": {
        "id": "JMzcOPDDphqR"
      }
    },
    {
      "cell_type": "markdown",
      "source": [
        "Answer Here"
      ],
      "metadata": {
        "id": "R4Ka1PC2phqR"
      }
    },
    {
      "cell_type": "markdown",
      "source": [
        "#### Chart - 11"
      ],
      "metadata": {
        "id": "x-EpHcCOp1ci"
      }
    },
    {
      "cell_type": "code",
      "source": [
        "# Chart - 11 visualization code\n",
        "plt.figure(figsize=(15, 8))\n",
        "plt.subplot(1, 2, 1)\n",
        "sns.countplot(x='babies',hue='hotel', data = hotel_df, palette='coolwarm')\n",
        "plt.title(\"Number of Babies in both hotels\",fontweight=\"bold\", size=20)\n",
        "\n",
        "plt.subplot(1, 2, 2)\n",
        "sns.countplot(x = 'babies', hue='is_canceled', data = hotel_df, palette='Set1_r')\n",
        "plt.title('Babies vs Cancelations',fontweight=\"bold\", size=20)\n",
        "plt.subplots_adjust(right=1.7)"
      ],
      "metadata": {
        "id": "mAQTIvtqp1cj"
      },
      "execution_count": null,
      "outputs": []
    },
    {
      "cell_type": "markdown",
      "source": [
        "##### 1. Why did you pick the specific chart?"
      ],
      "metadata": {
        "id": "X_VqEhTip1ck"
      }
    },
    {
      "cell_type": "markdown",
      "source": [
        "Answer Here."
      ],
      "metadata": {
        "id": "-vsMzt_np1ck"
      }
    },
    {
      "cell_type": "markdown",
      "source": [
        "##### 2. What is/are the insight(s) found from the chart?"
      ],
      "metadata": {
        "id": "8zGJKyg5p1ck"
      }
    },
    {
      "cell_type": "markdown",
      "source": [
        "Answer Here"
      ],
      "metadata": {
        "id": "ZYdMsrqVp1ck"
      }
    },
    {
      "cell_type": "markdown",
      "source": [
        "##### 3. Will the gained insights help creating a positive business impact?\n",
        "Are there any insights that lead to negative growth? Justify with specific reason."
      ],
      "metadata": {
        "id": "PVzmfK_Ep1ck"
      }
    },
    {
      "cell_type": "markdown",
      "source": [
        "Answer Here"
      ],
      "metadata": {
        "id": "druuKYZpp1ck"
      }
    },
    {
      "cell_type": "markdown",
      "source": [
        "#### Chart - 12"
      ],
      "metadata": {
        "id": "n3dbpmDWp1ck"
      }
    },
    {
      "cell_type": "code",
      "source": [
        "# Chart - 12 visualization code\n",
        "import plotly.express as px\n",
        "import plotly.graph_objects as go\n",
        "import plotly.figure_factory as ff\n",
        "from plotly.colors import n_colors\n",
        "from plotly.subplots import make_subplots\n",
        "# Minmax scaler\n",
        "from sklearn.preprocessing import MinMaxScaler\n",
        "country_visitors = hotel_df[hotel_df['is_canceled'] == '0'].groupby(['country']).size().reset_index(name = 'count')\n",
        "\n",
        "\n",
        "import plotly.express as px\n",
        "\n",
        "px.choropleth(country_visitors,\n",
        "                    locations = \"country\",\n",
        "                    color= \"count\" ,\n",
        "                    hover_name= \"country\", # column to add to hover information\n",
        "                    color_continuous_scale=\"Viridis\",\n",
        "                    title=\"Home country of visitors\")"
      ],
      "metadata": {
        "id": "bwevp1tKp1ck"
      },
      "execution_count": null,
      "outputs": []
    },
    {
      "cell_type": "markdown",
      "source": [
        "##### 1. Why did you pick the specific chart?"
      ],
      "metadata": {
        "id": "ylSl6qgtp1ck"
      }
    },
    {
      "cell_type": "markdown",
      "source": [
        "Answer Here."
      ],
      "metadata": {
        "id": "m2xqNkiQp1ck"
      }
    },
    {
      "cell_type": "markdown",
      "source": [
        "##### 2. What is/are the insight(s) found from the chart?"
      ],
      "metadata": {
        "id": "ZWILFDl5p1ck"
      }
    },
    {
      "cell_type": "markdown",
      "source": [
        "Answer Here"
      ],
      "metadata": {
        "id": "x-lUsV2mp1ck"
      }
    },
    {
      "cell_type": "markdown",
      "source": [
        "##### 3. Will the gained insights help creating a positive business impact?\n",
        "Are there any insights that lead to negative growth? Justify with specific reason."
      ],
      "metadata": {
        "id": "M7G43BXep1ck"
      }
    },
    {
      "cell_type": "markdown",
      "source": [
        "Answer Here"
      ],
      "metadata": {
        "id": "5wwDJXsLp1cl"
      }
    },
    {
      "cell_type": "markdown",
      "source": [
        "#### Chart - 13"
      ],
      "metadata": {
        "id": "Ag9LCva-p1cl"
      }
    },
    {
      "cell_type": "code",
      "source": [
        "# Chart - 13 visualization code\n",
        "plt.figure(figsize=(14,7))\n",
        "sns.countplot(x='market_segment', data = hotel_df, palette ='husl')\n",
        "plt.show()"
      ],
      "metadata": {
        "id": "EUfxeq9-p1cl"
      },
      "execution_count": null,
      "outputs": []
    },
    {
      "cell_type": "markdown",
      "source": [
        "##### 1. Why did you pick the specific chart?"
      ],
      "metadata": {
        "id": "E6MkPsBcp1cl"
      }
    },
    {
      "cell_type": "markdown",
      "source": [
        "Answer Here."
      ],
      "metadata": {
        "id": "V22bRsFWp1cl"
      }
    },
    {
      "cell_type": "markdown",
      "source": [
        "##### 2. What is/are the insight(s) found from the chart?"
      ],
      "metadata": {
        "id": "2cELzS2fp1cl"
      }
    },
    {
      "cell_type": "markdown",
      "source": [
        "Answer Here"
      ],
      "metadata": {
        "id": "ozQPc2_Ip1cl"
      }
    },
    {
      "cell_type": "markdown",
      "source": [
        "##### 3. Will the gained insights help creating a positive business impact?\n",
        "Are there any insights that lead to negative growth? Justify with specific reason."
      ],
      "metadata": {
        "id": "3MPXvC8up1cl"
      }
    },
    {
      "cell_type": "markdown",
      "source": [
        "Answer Here"
      ],
      "metadata": {
        "id": "GL8l1tdLp1cl"
      }
    },
    {
      "cell_type": "markdown",
      "source": [
        "#### Chart - 14"
      ],
      "metadata": {
        "id": "kGUEjRlpY5xI"
      }
    },
    {
      "cell_type": "code",
      "source": [
        "# Chart - 13 visualization code\n",
        "plt.figure(figsize=(14,7))\n",
        "sns.countplot(x ='arrival_date_year', data = hotel_df, palette='husl')\n",
        "plt.show()"
      ],
      "metadata": {
        "id": "JilPvYjKY5xR"
      },
      "execution_count": null,
      "outputs": []
    },
    {
      "cell_type": "markdown",
      "source": [
        "##### 1. Why did you pick the specific chart?"
      ],
      "metadata": {
        "id": "HhGxBz3EY5xR"
      }
    },
    {
      "cell_type": "markdown",
      "source": [
        "Answer Here."
      ],
      "metadata": {
        "id": "kEy75MTZY5xR"
      }
    },
    {
      "cell_type": "markdown",
      "source": [
        "##### 2. What is/are the insight(s) found from the chart?"
      ],
      "metadata": {
        "id": "o4OD-YyTY5xR"
      }
    },
    {
      "cell_type": "markdown",
      "source": [
        "Answer Here"
      ],
      "metadata": {
        "id": "k0PtUFfZY5xR"
      }
    },
    {
      "cell_type": "markdown",
      "source": [
        "##### 3. Will the gained insights help creating a positive business impact?\n",
        "Are there any insights that lead to negative growth? Justify with specific reason."
      ],
      "metadata": {
        "id": "wQmUVDTnY5xR"
      }
    },
    {
      "cell_type": "markdown",
      "source": [
        "Answer Here"
      ],
      "metadata": {
        "id": "Bw5pPek4Y5xS"
      }
    },
    {
      "cell_type": "markdown",
      "source": [
        "#### Chart - 14 - Correlation Heatmap"
      ],
      "metadata": {
        "id": "NC_X3p0fY2L0"
      }
    },
    {
      "cell_type": "code",
      "source": [
        "# Correlation Heatmap visualization code"
      ],
      "metadata": {
        "id": "xyC9zolEZNRQ"
      },
      "execution_count": null,
      "outputs": []
    },
    {
      "cell_type": "markdown",
      "source": [
        "##### 1. Why did you pick the specific chart?"
      ],
      "metadata": {
        "id": "UV0SzAkaZNRQ"
      }
    },
    {
      "cell_type": "markdown",
      "source": [
        "Answer Here."
      ],
      "metadata": {
        "id": "DVPuT8LYZNRQ"
      }
    },
    {
      "cell_type": "markdown",
      "source": [
        "##### 2. What is/are the insight(s) found from the chart?"
      ],
      "metadata": {
        "id": "YPEH6qLeZNRQ"
      }
    },
    {
      "cell_type": "markdown",
      "source": [
        "Answer Here"
      ],
      "metadata": {
        "id": "bfSqtnDqZNRR"
      }
    },
    {
      "cell_type": "markdown",
      "source": [
        "#### Chart - 14"
      ],
      "metadata": {
        "id": "EK1lWFAxZ7RW"
      }
    },
    {
      "cell_type": "code",
      "source": [
        "# Chart - 13 visualization code\n",
        "plt.figure(figsize=(14,7))\n",
        "sns.countplot(x ='meal', data = hotel_df, palette='husl')\n",
        "plt.show()"
      ],
      "metadata": {
        "id": "oc2o1-tmZ7Rf"
      },
      "execution_count": null,
      "outputs": []
    },
    {
      "cell_type": "markdown",
      "source": [
        "##### 1. Why did you pick the specific chart?"
      ],
      "metadata": {
        "id": "u7H7YBOSZ7Rg"
      }
    },
    {
      "cell_type": "markdown",
      "source": [
        "Answer Here."
      ],
      "metadata": {
        "id": "C1kzO-tZZ7Rg"
      }
    },
    {
      "cell_type": "markdown",
      "source": [
        "##### 2. What is/are the insight(s) found from the chart?"
      ],
      "metadata": {
        "id": "mZbfodEHZ7Rg"
      }
    },
    {
      "cell_type": "markdown",
      "source": [
        "Answer Here"
      ],
      "metadata": {
        "id": "uusu13duZ7Rh"
      }
    },
    {
      "cell_type": "markdown",
      "source": [
        "##### 3. Will the gained insights help creating a positive business impact?\n",
        "Are there any insights that lead to negative growth? Justify with specific reason."
      ],
      "metadata": {
        "id": "4VlWTK0sZ7Rh"
      }
    },
    {
      "cell_type": "markdown",
      "source": [
        "Answer Here"
      ],
      "metadata": {
        "id": "H4jGYK2yZ7Rh"
      }
    },
    {
      "cell_type": "markdown",
      "source": [],
      "metadata": {
        "id": "gJttodI8az76"
      }
    },
    {
      "cell_type": "markdown",
      "source": [
        "#### Chart - 14"
      ],
      "metadata": {
        "id": "8kodBVtna0UX"
      }
    },
    {
      "cell_type": "code",
      "source": [
        "# Chart - 13 visualization code\n",
        "plt.figure(figsize=(14,7))\n",
        "sns.countplot(x ='customer_type', data = hotel_df, palette ='husl')\n",
        "plt.show()"
      ],
      "metadata": {
        "id": "re8Lww8ha0UY"
      },
      "execution_count": null,
      "outputs": []
    },
    {
      "cell_type": "markdown",
      "source": [
        "##### 1. Why did you pick the specific chart?"
      ],
      "metadata": {
        "id": "xWFAEaRla0UY"
      }
    },
    {
      "cell_type": "markdown",
      "source": [
        "Answer Here."
      ],
      "metadata": {
        "id": "ava0WoH9a0UY"
      }
    },
    {
      "cell_type": "markdown",
      "source": [
        "##### 2. What is/are the insight(s) found from the chart?"
      ],
      "metadata": {
        "id": "VIRFF6SUa0UZ"
      }
    },
    {
      "cell_type": "markdown",
      "source": [
        "Answer Here"
      ],
      "metadata": {
        "id": "6LPZ5_aIa0UZ"
      }
    },
    {
      "cell_type": "markdown",
      "source": [
        "##### 3. Will the gained insights help creating a positive business impact?\n",
        "Are there any insights that lead to negative growth? Justify with specific reason."
      ],
      "metadata": {
        "id": "ma9PPAJ1a0UZ"
      }
    },
    {
      "cell_type": "markdown",
      "source": [
        "Answer Here"
      ],
      "metadata": {
        "id": "YywDFi3ua0UZ"
      }
    },
    {
      "cell_type": "markdown",
      "source": [],
      "metadata": {
        "id": "T37qA6wKbHpT"
      }
    },
    {
      "cell_type": "markdown",
      "source": [
        "#### Chart - 14"
      ],
      "metadata": {
        "id": "c5NIuDembIDd"
      }
    },
    {
      "cell_type": "code",
      "source": [
        "# Chart - 13 visualization code\n",
        "plt.figure(figsize=(18,8))\n",
        "plt.subplot(1, 2, 1)\n",
        "sns.countplot(x ='assigned_room_type', data = hotel_df, palette ='husl')\n",
        "plt.title(\"Number of Bookings for each room type in both hotels\",fontweight=\"bold\", size=20)\n",
        "\n",
        "plt.subplot(1, 2, 2)\n",
        "sns.boxplot(x = 'assigned_room_type', y='adr', data = hotel_df)\n",
        "plt.title('ADR for each room type',fontweight=\"bold\", size=20)\n",
        "plt.subplots_adjust(right=1.7)"
      ],
      "metadata": {
        "id": "9eXHeX62bIDe"
      },
      "execution_count": null,
      "outputs": []
    },
    {
      "cell_type": "markdown",
      "source": [
        "##### 1. Why did you pick the specific chart?"
      ],
      "metadata": {
        "id": "f7VE_yMTbIDf"
      }
    },
    {
      "cell_type": "markdown",
      "source": [
        "Answer Here."
      ],
      "metadata": {
        "id": "N5zYg-szbIDf"
      }
    },
    {
      "cell_type": "markdown",
      "source": [
        "##### 2. What is/are the insight(s) found from the chart?"
      ],
      "metadata": {
        "id": "7oTXpAl-bIDg"
      }
    },
    {
      "cell_type": "markdown",
      "source": [
        "Answer Here"
      ],
      "metadata": {
        "id": "L0_mvDWJbIDg"
      }
    },
    {
      "cell_type": "markdown",
      "source": [
        "##### 3. Will the gained insights help creating a positive business impact?\n",
        "Are there any insights that lead to negative growth? Justify with specific reason."
      ],
      "metadata": {
        "id": "l-1N9GgIbIDh"
      }
    },
    {
      "cell_type": "markdown",
      "source": [
        "Answer Here"
      ],
      "metadata": {
        "id": "9sQ0pCmAbIDh"
      }
    },
    {
      "cell_type": "markdown",
      "source": [],
      "metadata": {
        "id": "SjQvq3CGcIJt"
      }
    },
    {
      "cell_type": "markdown",
      "source": [
        "#### Chart - 14"
      ],
      "metadata": {
        "id": "u6Z4J2XLcItr"
      }
    },
    {
      "cell_type": "code",
      "source": [
        "# Chart - 13 visualization code\n",
        "plt.figure(figsize=(14,7))\n",
        "sns.countplot(x ='booking_changes', data = hotel_df, palette ='husl')\n",
        "plt.show()"
      ],
      "metadata": {
        "id": "7bbpqh8LcItr"
      },
      "execution_count": null,
      "outputs": []
    },
    {
      "cell_type": "markdown",
      "source": [
        "##### 1. Why did you pick the specific chart?"
      ],
      "metadata": {
        "id": "jQCyFE6fcIts"
      }
    },
    {
      "cell_type": "markdown",
      "source": [
        "Answer Here."
      ],
      "metadata": {
        "id": "_Or5civtcIts"
      }
    },
    {
      "cell_type": "markdown",
      "source": [
        "##### 2. What is/are the insight(s) found from the chart?"
      ],
      "metadata": {
        "id": "FZngxRbIcItt"
      }
    },
    {
      "cell_type": "markdown",
      "source": [
        "Answer Here"
      ],
      "metadata": {
        "id": "XY9RZ2jfcItt"
      }
    },
    {
      "cell_type": "markdown",
      "source": [
        "##### 3. Will the gained insights help creating a positive business impact?\n",
        "Are there any insights that lead to negative growth? Justify with specific reason."
      ],
      "metadata": {
        "id": "uBGY0XINcItt"
      }
    },
    {
      "cell_type": "markdown",
      "source": [
        "Answer Here"
      ],
      "metadata": {
        "id": "xW6pSCX7cItu"
      }
    },
    {
      "cell_type": "markdown",
      "source": [],
      "metadata": {
        "id": "GNRu02JxzJti"
      }
    },
    {
      "cell_type": "markdown",
      "source": [
        "#### Chart - 14"
      ],
      "metadata": {
        "id": "QSdCqsCxzKT0"
      }
    },
    {
      "cell_type": "code",
      "source": [
        "# Chart - 13 visualization code\n",
        "plt.figure(figsize=(6,6))\n",
        "sns.countplot(x='deposit_type', data = hotel_df, palette ='husl')\n",
        "plt.show()"
      ],
      "metadata": {
        "id": "IT-yOPuwzKT1"
      },
      "execution_count": null,
      "outputs": []
    },
    {
      "cell_type": "markdown",
      "source": [
        "##### 1. Why did you pick the specific chart?"
      ],
      "metadata": {
        "id": "uX7HvyO7zKT2"
      }
    },
    {
      "cell_type": "markdown",
      "source": [
        "Answer Here."
      ],
      "metadata": {
        "id": "3zPyrESjzKT2"
      }
    },
    {
      "cell_type": "markdown",
      "source": [
        "##### 2. What is/are the insight(s) found from the chart?"
      ],
      "metadata": {
        "id": "5oLxYPT0zKT3"
      }
    },
    {
      "cell_type": "markdown",
      "source": [
        "Answer Here"
      ],
      "metadata": {
        "id": "V6adBChZzKT3"
      }
    },
    {
      "cell_type": "markdown",
      "source": [
        "##### 3. Will the gained insights help creating a positive business impact?\n",
        "Are there any insights that lead to negative growth? Justify with specific reason."
      ],
      "metadata": {
        "id": "inaIjkt-zKT3"
      }
    },
    {
      "cell_type": "markdown",
      "source": [
        "Answer Here"
      ],
      "metadata": {
        "id": "0lhPQrbOzKT3"
      }
    },
    {
      "cell_type": "markdown",
      "source": [],
      "metadata": {
        "id": "E0h0vNxEzdaR"
      }
    },
    {
      "cell_type": "markdown",
      "source": [
        "#### Chart - 14"
      ],
      "metadata": {
        "id": "evFhTmXlzeH7"
      }
    },
    {
      "cell_type": "code",
      "source": [
        "# Chart - 13 visualization code\n",
        "plt.figure(figsize=(6,6))\n",
        "sns.countplot(x ='required_car_parking_spaces', data = hotel_df, palette='husl')\n",
        "plt.show()"
      ],
      "metadata": {
        "id": "PhBLzLXRzeIe"
      },
      "execution_count": null,
      "outputs": []
    },
    {
      "cell_type": "markdown",
      "source": [
        "##### 1. Why did you pick the specific chart?"
      ],
      "metadata": {
        "id": "BnG4N5P6zeIf"
      }
    },
    {
      "cell_type": "markdown",
      "source": [
        "Answer Here."
      ],
      "metadata": {
        "id": "X6vrTRgHzeIf"
      }
    },
    {
      "cell_type": "markdown",
      "source": [
        "##### 2. What is/are the insight(s) found from the chart?"
      ],
      "metadata": {
        "id": "Sri7GsKGzeIg"
      }
    },
    {
      "cell_type": "markdown",
      "source": [
        "Answer Here"
      ],
      "metadata": {
        "id": "WSmK0YlGzeIg"
      }
    },
    {
      "cell_type": "markdown",
      "source": [
        "##### 3. Will the gained insights help creating a positive business impact?\n",
        "Are there any insights that lead to negative growth? Justify with specific reason."
      ],
      "metadata": {
        "id": "ciz-iz82zeIg"
      }
    },
    {
      "cell_type": "markdown",
      "source": [
        "Answer Here"
      ],
      "metadata": {
        "id": "Yvt2jnXszeIg"
      }
    },
    {
      "cell_type": "markdown",
      "source": [],
      "metadata": {
        "id": "rVjRGOOJzr0j"
      }
    },
    {
      "cell_type": "markdown",
      "source": [
        "#### Chart - 14"
      ],
      "metadata": {
        "id": "lbf1dJv6zsTP"
      }
    },
    {
      "cell_type": "code",
      "source": [
        "# Chart - 13 visualization code\n",
        "plt.figure(figsize=(6,6))\n",
        "sns.countplot(x ='total_people', data = hotel_df, palette ='husl')\n",
        "plt.show()"
      ],
      "metadata": {
        "id": "l_6A9E0izsTR"
      },
      "execution_count": null,
      "outputs": []
    },
    {
      "cell_type": "markdown",
      "source": [
        "##### 1. Why did you pick the specific chart?"
      ],
      "metadata": {
        "id": "HWGIZUTCzsTS"
      }
    },
    {
      "cell_type": "markdown",
      "source": [
        "Answer Here."
      ],
      "metadata": {
        "id": "J0QNP1NszsTS"
      }
    },
    {
      "cell_type": "markdown",
      "source": [
        "##### 2. What is/are the insight(s) found from the chart?"
      ],
      "metadata": {
        "id": "gCOcFjM5zsTT"
      }
    },
    {
      "cell_type": "markdown",
      "source": [
        "Answer Here"
      ],
      "metadata": {
        "id": "KOgz3tRgzsTT"
      }
    },
    {
      "cell_type": "markdown",
      "source": [
        "##### 3. Will the gained insights help creating a positive business impact?\n",
        "Are there any insights that lead to negative growth? Justify with specific reason."
      ],
      "metadata": {
        "id": "vMaRCMrPzsTT"
      }
    },
    {
      "cell_type": "markdown",
      "source": [
        "Answer Here"
      ],
      "metadata": {
        "id": "7MAf0oaQzsTT"
      }
    },
    {
      "cell_type": "markdown",
      "source": [],
      "metadata": {
        "id": "5-Er_4k5z5hl"
      }
    },
    {
      "cell_type": "markdown",
      "source": [
        "#### Chart - 14"
      ],
      "metadata": {
        "id": "OL1VYgQez50s"
      }
    },
    {
      "cell_type": "code",
      "source": [
        "# Chart - 13 visualization code\n",
        "plt.figure(figsize=(6,6))\n",
        "sns.countplot(x ='reservation_status', data = hotel_df, palette ='husl')\n",
        "plt.show()"
      ],
      "metadata": {
        "id": "WSCTOpbJz50t"
      },
      "execution_count": null,
      "outputs": []
    },
    {
      "cell_type": "markdown",
      "source": [
        "##### 1. Why did you pick the specific chart?"
      ],
      "metadata": {
        "id": "X-NFR917z50u"
      }
    },
    {
      "cell_type": "markdown",
      "source": [
        "Answer Here."
      ],
      "metadata": {
        "id": "PhcK3F_oz50u"
      }
    },
    {
      "cell_type": "markdown",
      "source": [
        "##### 2. What is/are the insight(s) found from the chart?"
      ],
      "metadata": {
        "id": "MvnmZpvOz50u"
      }
    },
    {
      "cell_type": "markdown",
      "source": [
        "Answer Here"
      ],
      "metadata": {
        "id": "GxyC2-X5z50u"
      }
    },
    {
      "cell_type": "markdown",
      "source": [
        "##### 3. Will the gained insights help creating a positive business impact?\n",
        "Are there any insights that lead to negative growth? Justify with specific reason."
      ],
      "metadata": {
        "id": "jKv51FBTz50u"
      }
    },
    {
      "cell_type": "markdown",
      "source": [
        "Answer Here"
      ],
      "metadata": {
        "id": "JJRi-Y-0z50u"
      }
    },
    {
      "cell_type": "markdown",
      "source": [],
      "metadata": {
        "id": "FRi09ege0Ibk"
      }
    },
    {
      "cell_type": "markdown",
      "source": [
        "#### Chart - 14"
      ],
      "metadata": {
        "id": "LoljyQ830I1o"
      }
    },
    {
      "cell_type": "code",
      "source": [
        "# Chart - 13 visualization code\n",
        "plt.figure(figsize=(12,5))\n",
        "\n",
        "# Calculating average daily rate per person\n",
        "hotel_df['adr_pp'] = hotel_df['adr'] / (hotel_df['adults'] + hotel_df['children'])\n",
        "actual_guests = hotel_df.loc[hotel_df[\"is_canceled\"] == '0']\n",
        "actual_guests['price'] = actual_guests['adr'] * (actual_guests['stays_in_weekend_nights'] + actual_guests['stays_in_week_nights'])\n",
        "sns.lineplot(data = actual_guests, x = 'arrival_date_month', y = 'price', hue = 'hotel')\n",
        "plt.show()"
      ],
      "metadata": {
        "id": "TlBc-ObR0I1p"
      },
      "execution_count": null,
      "outputs": []
    },
    {
      "cell_type": "markdown",
      "source": [
        "##### 1. Why did you pick the specific chart?"
      ],
      "metadata": {
        "id": "WNMP_rhb0I1p"
      }
    },
    {
      "cell_type": "markdown",
      "source": [
        "Answer Here."
      ],
      "metadata": {
        "id": "JuOGqKd80I1p"
      }
    },
    {
      "cell_type": "markdown",
      "source": [
        "##### 2. What is/are the insight(s) found from the chart?"
      ],
      "metadata": {
        "id": "Fm5xaXev0I1q"
      }
    },
    {
      "cell_type": "markdown",
      "source": [
        "Answer Here"
      ],
      "metadata": {
        "id": "jw0dym8z0I1q"
      }
    },
    {
      "cell_type": "markdown",
      "source": [
        "##### 3. Will the gained insights help creating a positive business impact?\n",
        "Are there any insights that lead to negative growth? Justify with specific reason."
      ],
      "metadata": {
        "id": "yoDZn8qo0I1q"
      }
    },
    {
      "cell_type": "markdown",
      "source": [
        "Answer Here"
      ],
      "metadata": {
        "id": "BVbLrSEh0I1q"
      }
    },
    {
      "cell_type": "markdown",
      "source": [],
      "metadata": {
        "id": "16CuMko00aeC"
      }
    },
    {
      "cell_type": "markdown",
      "source": [
        "#### Chart - 14"
      ],
      "metadata": {
        "id": "E3-gCEeN0avs"
      }
    },
    {
      "cell_type": "code",
      "source": [
        "# Chart - 13 visualization code\n",
        "plt.figure(figsize=(12,6))\n",
        "sns.lineplot(x='arrival_date_month', y='adr', hue='hotel', data= hotel_df)\n",
        "plt.show()"
      ],
      "metadata": {
        "id": "HbLrWTSx0avt"
      },
      "execution_count": null,
      "outputs": []
    },
    {
      "cell_type": "markdown",
      "source": [
        "For resort hotels, the average daily rate is more expensive during august, july and september.\n",
        "\n",
        "For city hotels, the average daily rate is more expensive during august, july, june and may."
      ],
      "metadata": {
        "id": "yMzB7ANB0km5"
      }
    },
    {
      "cell_type": "markdown",
      "source": [
        "##### 1. Why did you pick the specific chart?"
      ],
      "metadata": {
        "id": "5VRGUlRs0avt"
      }
    },
    {
      "cell_type": "markdown",
      "source": [
        "Answer Here."
      ],
      "metadata": {
        "id": "JwUBZX8o0avu"
      }
    },
    {
      "cell_type": "markdown",
      "source": [
        "##### 2. What is/are the insight(s) found from the chart?"
      ],
      "metadata": {
        "id": "HdpfY1oa0avu"
      }
    },
    {
      "cell_type": "markdown",
      "source": [
        "Answer Here"
      ],
      "metadata": {
        "id": "a6z_3pE00avu"
      }
    },
    {
      "cell_type": "markdown",
      "source": [
        "##### 3. Will the gained insights help creating a positive business impact?\n",
        "Are there any insights that lead to negative growth? Justify with specific reason."
      ],
      "metadata": {
        "id": "Vgbk3sm10avv"
      }
    },
    {
      "cell_type": "markdown",
      "source": [
        "Answer Here"
      ],
      "metadata": {
        "id": "4SVICXP60avv"
      }
    },
    {
      "cell_type": "markdown",
      "source": [],
      "metadata": {
        "id": "0pJL7H0x2X8D"
      }
    },
    {
      "cell_type": "markdown",
      "source": [
        "#### Chart - 14"
      ],
      "metadata": {
        "id": "brV9KsNs2Yev"
      }
    },
    {
      "cell_type": "code",
      "source": [
        "# Chart - 13 visualization code\n",
        "d1 = pd.DataFrame(hotel_df['agent'].value_counts()).reset_index().rename(columns = {'index':'agent','agent':'num_of_bookings'}).sort_values(by = 'num_of_bookings', ascending = False)\n",
        "d1.drop(d1[d1['agent'] == 0].index, inplace = True)            # 0 represents that booking is not made by an agent\n",
        "d1 = d1[:10]                                                   # Selecting top 10 performing agents\n",
        "plt.figure(figsize = (10,5))\n",
        "sns.barplot(x = 'agent', y = 'num_of_bookings', data = d1, order = d1.sort_values('num_of_bookings', ascending = False).agent)"
      ],
      "metadata": {
        "id": "5-7sw7is2Yev"
      },
      "execution_count": null,
      "outputs": []
    },
    {
      "cell_type": "markdown",
      "source": [
        "##### 1. Why did you pick the specific chart?"
      ],
      "metadata": {
        "id": "_Nvvgzw_2Yew"
      }
    },
    {
      "cell_type": "markdown",
      "source": [
        "Answer Here."
      ],
      "metadata": {
        "id": "st6R7YFP2Yew"
      }
    },
    {
      "cell_type": "markdown",
      "source": [
        "##### 2. What is/are the insight(s) found from the chart?"
      ],
      "metadata": {
        "id": "4FbrEAgb2Yew"
      }
    },
    {
      "cell_type": "markdown",
      "source": [
        "Answer Here"
      ],
      "metadata": {
        "id": "_Ym9foL_2Yew"
      }
    },
    {
      "cell_type": "markdown",
      "source": [
        "##### 3. Will the gained insights help creating a positive business impact?\n",
        "Are there any insights that lead to negative growth? Justify with specific reason."
      ],
      "metadata": {
        "id": "10OF-2Ss2Yew"
      }
    },
    {
      "cell_type": "markdown",
      "source": [
        "Answer Here"
      ],
      "metadata": {
        "id": "sLWIy9lb2Yew"
      }
    },
    {
      "cell_type": "markdown",
      "source": [],
      "metadata": {
        "id": "1rWhkdvaQ-UD"
      }
    },
    {
      "cell_type": "markdown",
      "source": [
        "#### Chart - 14"
      ],
      "metadata": {
        "id": "4nWNU8h2Q-x4"
      }
    },
    {
      "cell_type": "code",
      "source": [
        "# Chart - 13 visualization code\n",
        "plt.figure( figsize=(10, 8))\n",
        "sns.countplot(x = 'meal', data = hotel_df)\n",
        "plt.show()"
      ],
      "metadata": {
        "id": "8bcsquvwQ-x5"
      },
      "execution_count": null,
      "outputs": []
    },
    {
      "cell_type": "markdown",
      "source": [
        "##### 1. Why did you pick the specific chart?"
      ],
      "metadata": {
        "id": "DUcafKDxQ-x6"
      }
    },
    {
      "cell_type": "markdown",
      "source": [
        "Answer Here."
      ],
      "metadata": {
        "id": "sF6jLTGKQ-x6"
      }
    },
    {
      "cell_type": "markdown",
      "source": [
        "##### 2. What is/are the insight(s) found from the chart?"
      ],
      "metadata": {
        "id": "8us8n4LBQ-x6"
      }
    },
    {
      "cell_type": "markdown",
      "source": [
        "Answer Here"
      ],
      "metadata": {
        "id": "87Kvd5f5Q-x7"
      }
    },
    {
      "cell_type": "markdown",
      "source": [
        "##### 3. Will the gained insights help creating a positive business impact?\n",
        "Are there any insights that lead to negative growth? Justify with specific reason."
      ],
      "metadata": {
        "id": "knO2hLTzQ-x7"
      }
    },
    {
      "cell_type": "markdown",
      "source": [
        "Answer Here"
      ],
      "metadata": {
        "id": "0pZKyxJyQ-x8"
      }
    },
    {
      "cell_type": "markdown",
      "source": [
        "#### Chart - 15 - Pair Plot"
      ],
      "metadata": {
        "id": "q29F0dvdveiT"
      }
    },
    {
      "cell_type": "code",
      "source": [
        "# Pair Plot visualization code"
      ],
      "metadata": {
        "id": "o58-TEIhveiU"
      },
      "execution_count": null,
      "outputs": []
    },
    {
      "cell_type": "markdown",
      "source": [
        "##### 1. Why did you pick the specific chart?"
      ],
      "metadata": {
        "id": "EXh0U9oCveiU"
      }
    },
    {
      "cell_type": "markdown",
      "source": [
        "Answer Here."
      ],
      "metadata": {
        "id": "eMmPjTByveiU"
      }
    },
    {
      "cell_type": "markdown",
      "source": [
        "##### 2. What is/are the insight(s) found from the chart?"
      ],
      "metadata": {
        "id": "22aHeOlLveiV"
      }
    },
    {
      "cell_type": "markdown",
      "source": [
        "Answer Here"
      ],
      "metadata": {
        "id": "uPQ8RGwHveiV"
      }
    },
    {
      "cell_type": "markdown",
      "source": [
        "## **5. Solution to Business Objective**"
      ],
      "metadata": {
        "id": "JcMwzZxoAimU"
      }
    },
    {
      "cell_type": "markdown",
      "source": [
        "#### What do you suggest the client to achieve Business Objective ?\n",
        "Explain Briefly."
      ],
      "metadata": {
        "id": "8G2x9gOozGDZ"
      }
    },
    {
      "cell_type": "markdown",
      "source": [
        "Answer Here."
      ],
      "metadata": {
        "id": "pASKb0qOza21"
      }
    },
    {
      "cell_type": "markdown",
      "source": [
        "# **Conclusion**"
      ],
      "metadata": {
        "id": "gCX9965dhzqZ"
      }
    },
    {
      "cell_type": "markdown",
      "source": [
        "Write the conclusion here."
      ],
      "metadata": {
        "id": "Fjb1IsQkh3yE"
      }
    },
    {
      "cell_type": "markdown",
      "source": [
        "### ***Hurrah! You have successfully completed your EDA Capstone Project !!!***"
      ],
      "metadata": {
        "id": "gIfDvo9L0UH2"
      }
    }
  ]
}